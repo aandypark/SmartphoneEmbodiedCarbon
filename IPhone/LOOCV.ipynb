{
 "cells": [
  {
   "cell_type": "code",
   "execution_count": 1,
   "metadata": {},
   "outputs": [],
   "source": [
    "import pandas as pd\n",
    "import numpy as np\n",
    "\n",
    "from sklearn.model_selection import cross_val_score, KFold, train_test_split\n",
    "from sklearn.model_selection import LeaveOneOut\n",
    "from sklearn.preprocessing import PolynomialFeatures\n",
    "\n",
    "from sklearn.ensemble import RandomForestRegressor\n",
    "from sklearn.linear_model import LinearRegression\n",
    "from sklearn import tree\n",
    "from sklearn.svm import SVR\n",
    "import xgboost as xgb\n",
    "from sklearn.linear_model import Lasso\n",
    "from sklearn.neural_network import MLPRegressor\n",
    "\n",
    "from sklearn.metrics import r2_score\n",
    "from sklearn.metrics import mean_absolute_percentage_error"
   ]
  },
  {
   "cell_type": "code",
   "execution_count": 2,
   "metadata": {},
   "outputs": [],
   "source": [
    "df = pd.read_csv('IphoneData.csv')\n",
    "newdf = df.drop(columns=['NAME', 'CO2E'])\n",
    "features = newdf.to_numpy()\n",
    "emissions = df['CO2E'].to_numpy()"
   ]
  },
  {
   "cell_type": "code",
   "execution_count": 3,
   "metadata": {},
   "outputs": [
    {
     "data": {
      "text/plain": [
       "\"alpha=0.1, batch_size=25, hidden_layer_sizes=(10, 10, 10, 10),\\n             learning_rate_init=0.5, max_iter=12000, random_state=42, tol=1.01, max_fun=15000,\\n             solver='lbfgs', activation='identity'\""
      ]
     },
     "execution_count": 3,
     "metadata": {},
     "output_type": "execute_result"
    }
   ],
   "source": [
    "def modelScore(X, y, model):\n",
    "    avgSSE = []\n",
    "    avgMAPE = []\n",
    "    splits = LeaveOneOut().get_n_splits(X)\n",
    "    #cross validation using leave one out\n",
    "    for i, (trainIndex, testIndex) in enumerate(LeaveOneOut().split(X)):\n",
    "        X_train = X[trainIndex]\n",
    "        X_test = X[testIndex]\n",
    "        y_train = y[trainIndex]\n",
    "        y_test = y[testIndex]\n",
    "    \n",
    "\n",
    "        if model == 'linear regression':\n",
    "            fittedModel = LinearRegression().fit(X_train, y_train)\n",
    "                \n",
    "        elif model == 'decision tree':\n",
    "            fittedModel = tree.DecisionTreeRegressor().fit(X_train, y_train)\n",
    "                \n",
    "        elif model == 'random forest':\n",
    "            y_train = y_train.flatten()\n",
    "            RF = RandomForestRegressor()#ccp_alpha=2.6, max_samples=.9, max_features='log2', min_samples_split=2,\n",
    "                      #n_estimators=50, max_depth=17, min_samples_leaf=1, criterion='squared_error')\n",
    "            fittedModel = RF.fit(X_train, y_train)\n",
    "            \n",
    "        elif model == 'support vector regression':\n",
    "            y_train = y_train.flatten()\n",
    "            fittedModel = SVR(kernel = 'linear').fit(X_train, y_train)\n",
    "    \n",
    "        elif model == 'polynomial regression':\n",
    "            polyFeatures = PolynomialFeatures(degree=3, interaction_only=True, include_bias=True, order='C')\n",
    "            polyX_train = polyFeatures.fit_transform(X_train)\n",
    "            polyX_test = polyFeatures.transform(X_test)\n",
    "            fittedModel = LinearRegression().fit(polyX_train, y_train)\n",
    "            X_test = polyX_test\n",
    "\n",
    "        elif model == 'xgboost':\n",
    "            xgbModel = xgb.XGBRegressor(learning_rate=0.225, n_estimators=225, booster='gblinear',\n",
    "                                        reg_alpha=0, reg_lambda=0, eval_metric='auc', \n",
    "                                        objective='reg:squaredlogerror', updater='coord_descent', \n",
    "                                        feature_selector='thrifty')\n",
    "            fittedModel = xgbModel.fit(X_train, y_train)\n",
    "        \n",
    "        elif model =='lasso':\n",
    "            lassoModel = Lasso(tol=.0001, max_iter=2000, selection='random', alpha=.15)\n",
    "            fittedModel = lassoModel.fit(X_train, y_train)\n",
    "\n",
    "        elif model ==\"neural network\":\n",
    "            nn = MLPRegressor(alpha=0.001, batch_size=25, hidden_layer_sizes=(10, 10, 10, 10),\n",
    "             learning_rate_init=0.05, max_iter=10000, random_state=42, tol=1e-1, max_fun=25000,\n",
    "             solver='lbfgs', activation='identity')\n",
    "            \n",
    "            fittedModel = nn.fit(X_train, y_train)          \n",
    "\n",
    "        y_pred = fittedModel.predict(X_test)\n",
    "        \n",
    "        #scores\n",
    "        avgSSE.append(np.sum((y_test - y_pred) ** 2))\n",
    "        avgMAPE.append(mean_absolute_percentage_error(y_test, y_pred))\n",
    "\n",
    "    avgSSE, avgMAPE = np.mean(avgSSE), np.mean(avgMAPE)\n",
    "\n",
    "   #print results\n",
    "    \"\"\"print(model)\n",
    "    print(\"SSE = \" + str(avgSSE))\n",
    "    print(\"MAPE = \" + str(avgMAPE))\"\"\"\n",
    "    print()\n",
    "    print(str(avgSSE))\n",
    "    print(str(avgMAPE))\n",
    "\n",
    "\n",
    "\n",
    "\"\"\"alpha=0.1, batch_size=25, hidden_layer_sizes=(10, 10, 10, 10),\n",
    "             learning_rate_init=0.5, max_iter=12000, random_state=42, tol=1.01, max_fun=15000,\n",
    "             solver='lbfgs', activation='identity'\"\"\"\n"
   ]
  },
  {
   "cell_type": "code",
   "execution_count": 4,
   "metadata": {},
   "outputs": [
    {
     "name": "stdout",
     "output_type": "stream",
     "text": [
      "\n",
      "19.009770446470295\n",
      "0.046050816668832206\n"
     ]
    }
   ],
   "source": [
    "modelScore(features, emissions, 'neural network')"
   ]
  },
  {
   "cell_type": "code",
   "execution_count": 5,
   "metadata": {},
   "outputs": [
    {
     "name": "stdout",
     "output_type": "stream",
     "text": [
      "\n",
      "19.697207782900612\n",
      "0.04873289978762851\n"
     ]
    }
   ],
   "source": [
    "modelScore(features, emissions, 'linear regression')"
   ]
  },
  {
   "cell_type": "code",
   "execution_count": 6,
   "metadata": {},
   "outputs": [
    {
     "name": "stdout",
     "output_type": "stream",
     "text": [
      "\n",
      "64.97916666666667\n",
      "0.08692572463934976\n"
     ]
    }
   ],
   "source": [
    "modelScore(features, emissions, 'decision tree')"
   ]
  },
  {
   "cell_type": "code",
   "execution_count": 7,
   "metadata": {},
   "outputs": [
    {
     "name": "stdout",
     "output_type": "stream",
     "text": [
      "\n",
      "39.79814791666668\n",
      "0.06526761454186869\n"
     ]
    }
   ],
   "source": [
    "modelScore(features, emissions, 'random forest')"
   ]
  },
  {
   "cell_type": "code",
   "execution_count": 8,
   "metadata": {},
   "outputs": [
    {
     "name": "stdout",
     "output_type": "stream",
     "text": [
      "\n",
      "23.649005892460583\n",
      "0.04674170011550882\n"
     ]
    }
   ],
   "source": [
    "modelScore(features, emissions, 'support vector regression')"
   ]
  },
  {
   "cell_type": "code",
   "execution_count": 9,
   "metadata": {},
   "outputs": [
    {
     "name": "stdout",
     "output_type": "stream",
     "text": [
      "\n",
      "6.48902173028647\n",
      "0.02359235125487665\n"
     ]
    }
   ],
   "source": [
    "modelScore(features, emissions, 'polynomial regression')"
   ]
  },
  {
   "cell_type": "code",
   "execution_count": 10,
   "metadata": {},
   "outputs": [
    {
     "name": "stdout",
     "output_type": "stream",
     "text": [
      "\n",
      "19.403605405051774\n",
      "0.04430870011778093\n"
     ]
    }
   ],
   "source": [
    "modelScore(features, emissions, 'xgboost')"
   ]
  },
  {
   "cell_type": "code",
   "execution_count": 11,
   "metadata": {},
   "outputs": [
    {
     "name": "stdout",
     "output_type": "stream",
     "text": [
      "\n",
      "20.55106761006795\n",
      "0.04776581240710643\n"
     ]
    }
   ],
   "source": [
    "modelScore(features, emissions, 'lasso')"
   ]
  },
  {
   "cell_type": "code",
   "execution_count": 12,
   "metadata": {},
   "outputs": [],
   "source": [
    "modelsList = ['linear regression', 'decision tree', 'random forest', 'support vector regression', 'polynomial regression', 'xgboost', 'lasso', 'neural network']\n",
    "multipleFeatures = df[['DISPLAY (inch)', 'STORAGE (gb)', 'MEMORY (gb)', 'GPU (cores)', 'NEURAL ENGINE (cores)', 'WEIGHT (gm)', 'FRONT CAMERA (mp)', 'Sum of megapixels', 'MAIN CAMERA (mp)']].to_numpy()\n",
    "featuresList = ['DISPLAY (inch)', 'STO|RAGE (gb)', 'MEMORY (gb)', 'CPU (cores)', 'GPU (cores)', 'NEURAL ENGINE (cores)', 'WEIGHT (gm)', 'FRONT CAMERA (mp)', 'BATTERY (mAh)', 'number of camera (back)', 'Sum of megapixels', 'MAIN CAMERA (mp)']"
   ]
  },
  {
   "cell_type": "code",
   "execution_count": 13,
   "metadata": {},
   "outputs": [
    {
     "name": "stdout",
     "output_type": "stream",
     "text": [
      "\n",
      "18.167856484085096\n",
      "0.047382470380977364\n",
      "\n",
      "69.875\n",
      "0.08560793828700518\n",
      "\n",
      "37.36107291666668\n",
      "0.06188726317803767\n",
      "\n",
      "25.444772882258757\n",
      "0.049023075226060364\n",
      "\n",
      "34.794934728211516\n",
      "0.03236909284289011\n",
      "\n",
      "23.189107621442417\n",
      "0.04798143226556526\n",
      "\n",
      "20.29346490973747\n",
      "0.047282939426950936\n",
      "\n",
      "17.56675560327552\n",
      "0.04652252339913419\n"
     ]
    }
   ],
   "source": [
    "for model in modelsList:\n",
    "    modelScore(multipleFeatures, emissions, model)"
   ]
  },
  {
   "cell_type": "code",
   "execution_count": null,
   "metadata": {},
   "outputs": [],
   "source": []
  }
 ],
 "metadata": {
  "kernelspec": {
   "display_name": "Python 3",
   "language": "python",
   "name": "python3"
  },
  "language_info": {
   "codemirror_mode": {
    "name": "ipython",
    "version": 3
   },
   "file_extension": ".py",
   "mimetype": "text/x-python",
   "name": "python",
   "nbconvert_exporter": "python",
   "pygments_lexer": "ipython3",
   "version": "3.12.2"
  }
 },
 "nbformat": 4,
 "nbformat_minor": 2
}
