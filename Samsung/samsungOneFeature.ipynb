{
 "cells": [
  {
   "cell_type": "code",
   "execution_count": 74,
   "metadata": {},
   "outputs": [],
   "source": [
    "import pandas as pd\n",
    "import numpy as np\n",
    "\n",
    "from sklearn.model_selection import cross_val_score, KFold, train_test_split\n",
    "from sklearn.model_selection import LeaveOneOut\n",
    "from sklearn.preprocessing import PolynomialFeatures\n",
    "\n",
    "from sklearn.ensemble import RandomForestRegressor\n",
    "from sklearn.linear_model import LinearRegression\n",
    "from sklearn import tree\n",
    "from sklearn.svm import SVR\n",
    "import xgboost as xgb\n",
    "from sklearn.linear_model import Lasso\n",
    "from sklearn.neural_network import MLPRegressor\n",
    "\n",
    "from sklearn.metrics import r2_score\n",
    "from sklearn.metrics import mean_absolute_percentage_error"
   ]
  },
  {
   "cell_type": "code",
   "execution_count": 75,
   "metadata": {},
   "outputs": [],
   "source": [
    "df = pd.read_csv('SamsungData.csv')\n",
    "display = df['DISPLAY (inch)'].to_numpy().reshape(-1, 1)\n",
    "storage = df['STORAGE (gb)'].to_numpy().reshape(-1, 1)\n",
    "memory = df['MEMORY (gb)'].to_numpy().reshape(-1, 1)\n",
    "cpu = df['CPU (cores)'].to_numpy().reshape(-1, 1)\n",
    "weight = df['WEIGHT (gm)'].to_numpy().reshape(-1, 1)\n",
    "frontCamera = df['FRONT CAMERA (mp)'].to_numpy().reshape(-1, 1)\n",
    "battery = df['BATTERY (mAh)'].to_numpy().reshape(-1, 1)\n",
    "numCameras = df['NUMBER OF CAMERAS (back)'].to_numpy().reshape(-1, 1)\n",
    "megapixels = df['SUM OF MEGAPIXELS'].to_numpy().reshape(-1, 1)\n",
    "mainCamera = df['MAIN CAMERA (mp)'].to_numpy().reshape(-1, 1)\n",
    "cpuSpeed = df['CPU SPEED (GHz)'].to_numpy().reshape(-1, 1)\n",
    "gpu = df['GPU (cores)'].to_numpy().reshape(-1, 1)\n",
    "gpuBench = df['GPU BENCHMARK (3DMark)'].to_numpy().reshape(-1, 1)\n",
    "newdf = df.drop(columns=['NAME', 'CO2E'])\n",
    "features = newdf.to_numpy()\n",
    "emissions = df['CO2E'].to_numpy()"
   ]
  },
  {
   "cell_type": "code",
   "execution_count": 79,
   "metadata": {},
   "outputs": [],
   "source": [
    "def modelScore(X, y, model):\n",
    "    avgR2 = avgSSE = avgMAPE = 0\n",
    "    #cross validation using K folds\n",
    "    kFolds = 5\n",
    "    for i, (trainIndex, testIndex) in enumerate(KFold(n_splits=kFolds, shuffle=True, random_state=42).split(X)):\n",
    "        X_train = X[trainIndex]\n",
    "        X_test = X[testIndex]\n",
    "        y_train = y[trainIndex]\n",
    "        y_test = y[testIndex]\n",
    "    \n",
    "\n",
    "        if model == 'linear regression':\n",
    "            fittedModel = LinearRegression().fit(X_train, y_train)\n",
    "            \n",
    "        elif model == 'decision tree':\n",
    "            dtModel = tree.DecisionTreeRegressor()\n",
    "            fittedModel = dtModel.fit(X_train, y_train)\n",
    "                \n",
    "        elif model == 'random forest':\n",
    "            y_train = y_train.flatten()\n",
    "            RF = RandomForestRegressor()\n",
    "            fittedModel = RF.fit(X_train, y_train)\n",
    "            \n",
    "        elif model == 'support vector regression':\n",
    "            y_train = y_train.flatten()\n",
    "            fittedModel = SVR().fit(X_train, y_train)\n",
    "    \n",
    "        elif model == 'polynomial regression':\n",
    "            polyFeatures = PolynomialFeatures()\n",
    "            polyX_train = polyFeatures.fit_transform(X_train)\n",
    "            polyX_test = polyFeatures.transform(X_test)\n",
    "            fittedModel = LinearRegression().fit(polyX_train, y_train)\n",
    "            X_test = polyX_test\n",
    "\n",
    "        elif model == 'xgboost':\n",
    "            xgbModel = xgb.XGBModel()\n",
    "            fittedModel = xgbModel.fit(X_train, y_train)\n",
    "        \n",
    "        elif model =='lasso':\n",
    "            lassoModel = Lasso()\n",
    "\n",
    "            fittedModel = lassoModel.fit(X_train, y_train)\n",
    "        \n",
    "        elif model ==\"neural network\":\n",
    "            nn = MLPRegressor()\n",
    "\n",
    "            fittedModel = nn.fit(X_train, y_train)\n",
    "\n",
    "        y_pred = fittedModel.predict(X_test)\n",
    "\n",
    "        #scores\n",
    "        avgR2 += r2_score(y_test, y_pred)    \n",
    "        avgSSE += np.sum((y_test - y_pred) ** 2)\n",
    "        avgMAPE += mean_absolute_percentage_error(y_test, y_pred)\n",
    "\n",
    "\n",
    "\n",
    "    avgR2, avgSSE, avgMAPE = avgR2 / kFolds, avgSSE / kFolds, avgMAPE / kFolds\n",
    "   #print results\n",
    "    \"\"\"print(model)\n",
    "    print(\"R2 = \" + str(avgR2))\n",
    "    print(\"SSE = \" + str(avgSSE))\n",
    "    print(\"MAPE = \" + str(avgMAPE))\"\"\"\n",
    "    print(str(avgR2))\n",
    "    print(str(avgSSE))\n",
    "    print(str(avgMAPE))\n"
   ]
  },
  {
   "cell_type": "code",
   "execution_count": 80,
   "metadata": {},
   "outputs": [],
   "source": [
    "modelsList = ['linear regression', 'decision tree', 'random forest', 'support vector regression', 'polynomial regression', 'xgboost', 'lasso', 'neural network']\n"
   ]
  },
  {
   "cell_type": "code",
   "execution_count": 81,
   "metadata": {},
   "outputs": [
    {
     "name": "stderr",
     "output_type": "stream",
     "text": [
      "C:\\Users\\emdua\\AppData\\Local\\Packages\\PythonSoftwareFoundation.Python.3.12_qbz5n2kfra8p0\\LocalCache\\local-packages\\Python312\\site-packages\\sklearn\\neural_network\\_multilayer_perceptron.py:691: ConvergenceWarning: Stochastic Optimizer: Maximum iterations (200) reached and the optimization hasn't converged yet.\n",
      "  warnings.warn(\n",
      "C:\\Users\\emdua\\AppData\\Local\\Packages\\PythonSoftwareFoundation.Python.3.12_qbz5n2kfra8p0\\LocalCache\\local-packages\\Python312\\site-packages\\sklearn\\neural_network\\_multilayer_perceptron.py:691: ConvergenceWarning: Stochastic Optimizer: Maximum iterations (200) reached and the optimization hasn't converged yet.\n",
      "  warnings.warn(\n",
      "C:\\Users\\emdua\\AppData\\Local\\Packages\\PythonSoftwareFoundation.Python.3.12_qbz5n2kfra8p0\\LocalCache\\local-packages\\Python312\\site-packages\\sklearn\\neural_network\\_multilayer_perceptron.py:691: ConvergenceWarning: Stochastic Optimizer: Maximum iterations (200) reached and the optimization hasn't converged yet.\n",
      "  warnings.warn(\n",
      "C:\\Users\\emdua\\AppData\\Local\\Packages\\PythonSoftwareFoundation.Python.3.12_qbz5n2kfra8p0\\LocalCache\\local-packages\\Python312\\site-packages\\sklearn\\neural_network\\_multilayer_perceptron.py:691: ConvergenceWarning: Stochastic Optimizer: Maximum iterations (200) reached and the optimization hasn't converged yet.\n",
      "  warnings.warn(\n",
      "C:\\Users\\emdua\\AppData\\Local\\Packages\\PythonSoftwareFoundation.Python.3.12_qbz5n2kfra8p0\\LocalCache\\local-packages\\Python312\\site-packages\\sklearn\\neural_network\\_multilayer_perceptron.py:691: ConvergenceWarning: Stochastic Optimizer: Maximum iterations (200) reached and the optimization hasn't converged yet.\n",
      "  warnings.warn(\n",
      "C:\\Users\\emdua\\AppData\\Local\\Packages\\PythonSoftwareFoundation.Python.3.12_qbz5n2kfra8p0\\LocalCache\\local-packages\\Python312\\site-packages\\sklearn\\neural_network\\_multilayer_perceptron.py:691: ConvergenceWarning: Stochastic Optimizer: Maximum iterations (200) reached and the optimization hasn't converged yet.\n",
      "  warnings.warn(\n",
      "C:\\Users\\emdua\\AppData\\Local\\Packages\\PythonSoftwareFoundation.Python.3.12_qbz5n2kfra8p0\\LocalCache\\local-packages\\Python312\\site-packages\\sklearn\\neural_network\\_multilayer_perceptron.py:691: ConvergenceWarning: Stochastic Optimizer: Maximum iterations (200) reached and the optimization hasn't converged yet.\n",
      "  warnings.warn(\n",
      "C:\\Users\\emdua\\AppData\\Local\\Packages\\PythonSoftwareFoundation.Python.3.12_qbz5n2kfra8p0\\LocalCache\\local-packages\\Python312\\site-packages\\sklearn\\neural_network\\_multilayer_perceptron.py:691: ConvergenceWarning: Stochastic Optimizer: Maximum iterations (200) reached and the optimization hasn't converged yet.\n",
      "  warnings.warn(\n",
      "C:\\Users\\emdua\\AppData\\Local\\Packages\\PythonSoftwareFoundation.Python.3.12_qbz5n2kfra8p0\\LocalCache\\local-packages\\Python312\\site-packages\\sklearn\\neural_network\\_multilayer_perceptron.py:691: ConvergenceWarning: Stochastic Optimizer: Maximum iterations (200) reached and the optimization hasn't converged yet.\n",
      "  warnings.warn(\n",
      "C:\\Users\\emdua\\AppData\\Local\\Packages\\PythonSoftwareFoundation.Python.3.12_qbz5n2kfra8p0\\LocalCache\\local-packages\\Python312\\site-packages\\sklearn\\neural_network\\_multilayer_perceptron.py:691: ConvergenceWarning: Stochastic Optimizer: Maximum iterations (200) reached and the optimization hasn't converged yet.\n",
      "  warnings.warn(\n"
     ]
    },
    {
     "name": "stdout",
     "output_type": "stream",
     "text": [
      "-2.9830366754523845\n",
      "17101.84132451082\n",
      "0.5278482524151974\n",
      "-7.927468751476394\n",
      "13749.14377305823\n",
      "0.47963657833288514\n",
      "-2.3160898415079525\n",
      "15531.027607156731\n",
      "0.45826443283220264\n",
      "-2.0624139096813208\n",
      "20513.52576799589\n",
      "0.4606208273251748\n"
     ]
    },
    {
     "name": "stderr",
     "output_type": "stream",
     "text": [
      "C:\\Users\\emdua\\AppData\\Local\\Packages\\PythonSoftwareFoundation.Python.3.12_qbz5n2kfra8p0\\LocalCache\\local-packages\\Python312\\site-packages\\sklearn\\neural_network\\_multilayer_perceptron.py:691: ConvergenceWarning: Stochastic Optimizer: Maximum iterations (200) reached and the optimization hasn't converged yet.\n",
      "  warnings.warn(\n",
      "C:\\Users\\emdua\\AppData\\Local\\Packages\\PythonSoftwareFoundation.Python.3.12_qbz5n2kfra8p0\\LocalCache\\local-packages\\Python312\\site-packages\\sklearn\\neural_network\\_multilayer_perceptron.py:691: ConvergenceWarning: Stochastic Optimizer: Maximum iterations (200) reached and the optimization hasn't converged yet.\n",
      "  warnings.warn(\n",
      "C:\\Users\\emdua\\AppData\\Local\\Packages\\PythonSoftwareFoundation.Python.3.12_qbz5n2kfra8p0\\LocalCache\\local-packages\\Python312\\site-packages\\sklearn\\neural_network\\_multilayer_perceptron.py:691: ConvergenceWarning: Stochastic Optimizer: Maximum iterations (200) reached and the optimization hasn't converged yet.\n",
      "  warnings.warn(\n",
      "C:\\Users\\emdua\\AppData\\Local\\Packages\\PythonSoftwareFoundation.Python.3.12_qbz5n2kfra8p0\\LocalCache\\local-packages\\Python312\\site-packages\\sklearn\\neural_network\\_multilayer_perceptron.py:691: ConvergenceWarning: Stochastic Optimizer: Maximum iterations (200) reached and the optimization hasn't converged yet.\n",
      "  warnings.warn(\n",
      "C:\\Users\\emdua\\AppData\\Local\\Packages\\PythonSoftwareFoundation.Python.3.12_qbz5n2kfra8p0\\LocalCache\\local-packages\\Python312\\site-packages\\sklearn\\neural_network\\_multilayer_perceptron.py:691: ConvergenceWarning: Stochastic Optimizer: Maximum iterations (200) reached and the optimization hasn't converged yet.\n",
      "  warnings.warn(\n",
      "C:\\Users\\emdua\\AppData\\Local\\Packages\\PythonSoftwareFoundation.Python.3.12_qbz5n2kfra8p0\\LocalCache\\local-packages\\Python312\\site-packages\\sklearn\\neural_network\\_multilayer_perceptron.py:691: ConvergenceWarning: Stochastic Optimizer: Maximum iterations (200) reached and the optimization hasn't converged yet.\n",
      "  warnings.warn(\n",
      "C:\\Users\\emdua\\AppData\\Local\\Packages\\PythonSoftwareFoundation.Python.3.12_qbz5n2kfra8p0\\LocalCache\\local-packages\\Python312\\site-packages\\sklearn\\neural_network\\_multilayer_perceptron.py:691: ConvergenceWarning: Stochastic Optimizer: Maximum iterations (200) reached and the optimization hasn't converged yet.\n",
      "  warnings.warn(\n",
      "C:\\Users\\emdua\\AppData\\Local\\Packages\\PythonSoftwareFoundation.Python.3.12_qbz5n2kfra8p0\\LocalCache\\local-packages\\Python312\\site-packages\\sklearn\\neural_network\\_multilayer_perceptron.py:691: ConvergenceWarning: Stochastic Optimizer: Maximum iterations (200) reached and the optimization hasn't converged yet.\n",
      "  warnings.warn(\n",
      "C:\\Users\\emdua\\AppData\\Local\\Packages\\PythonSoftwareFoundation.Python.3.12_qbz5n2kfra8p0\\LocalCache\\local-packages\\Python312\\site-packages\\sklearn\\neural_network\\_multilayer_perceptron.py:691: ConvergenceWarning: Stochastic Optimizer: Maximum iterations (200) reached and the optimization hasn't converged yet.\n",
      "  warnings.warn(\n",
      "C:\\Users\\emdua\\AppData\\Local\\Packages\\PythonSoftwareFoundation.Python.3.12_qbz5n2kfra8p0\\LocalCache\\local-packages\\Python312\\site-packages\\sklearn\\neural_network\\_multilayer_perceptron.py:691: ConvergenceWarning: Stochastic Optimizer: Maximum iterations (200) reached and the optimization hasn't converged yet.\n",
      "  warnings.warn(\n",
      "C:\\Users\\emdua\\AppData\\Local\\Packages\\PythonSoftwareFoundation.Python.3.12_qbz5n2kfra8p0\\LocalCache\\local-packages\\Python312\\site-packages\\sklearn\\neural_network\\_multilayer_perceptron.py:691: ConvergenceWarning: Stochastic Optimizer: Maximum iterations (200) reached and the optimization hasn't converged yet.\n",
      "  warnings.warn(\n",
      "C:\\Users\\emdua\\AppData\\Local\\Packages\\PythonSoftwareFoundation.Python.3.12_qbz5n2kfra8p0\\LocalCache\\local-packages\\Python312\\site-packages\\sklearn\\neural_network\\_multilayer_perceptron.py:691: ConvergenceWarning: Stochastic Optimizer: Maximum iterations (200) reached and the optimization hasn't converged yet.\n",
      "  warnings.warn(\n"
     ]
    },
    {
     "name": "stdout",
     "output_type": "stream",
     "text": [
      "-0.29595617729460555\n",
      "10890.978996034797\n",
      "0.27996971513948904\n",
      "-2.105318491162799\n",
      "22380.3284068561\n",
      "0.4905247004857344\n",
      "-160.78478311019992\n",
      "721502.8924672982\n",
      "3.4142682703591247\n",
      "0.4429838326858627\n",
      "2511.3352780707255\n",
      "0.15516872566923273\n"
     ]
    },
    {
     "name": "stderr",
     "output_type": "stream",
     "text": [
      "C:\\Users\\emdua\\AppData\\Local\\Packages\\PythonSoftwareFoundation.Python.3.12_qbz5n2kfra8p0\\LocalCache\\local-packages\\Python312\\site-packages\\sklearn\\neural_network\\_multilayer_perceptron.py:691: ConvergenceWarning: Stochastic Optimizer: Maximum iterations (200) reached and the optimization hasn't converged yet.\n",
      "  warnings.warn(\n",
      "C:\\Users\\emdua\\AppData\\Local\\Packages\\PythonSoftwareFoundation.Python.3.12_qbz5n2kfra8p0\\LocalCache\\local-packages\\Python312\\site-packages\\sklearn\\neural_network\\_multilayer_perceptron.py:691: ConvergenceWarning: Stochastic Optimizer: Maximum iterations (200) reached and the optimization hasn't converged yet.\n",
      "  warnings.warn(\n",
      "C:\\Users\\emdua\\AppData\\Local\\Packages\\PythonSoftwareFoundation.Python.3.12_qbz5n2kfra8p0\\LocalCache\\local-packages\\Python312\\site-packages\\sklearn\\neural_network\\_multilayer_perceptron.py:691: ConvergenceWarning: Stochastic Optimizer: Maximum iterations (200) reached and the optimization hasn't converged yet.\n",
      "  warnings.warn(\n",
      "C:\\Users\\emdua\\AppData\\Local\\Packages\\PythonSoftwareFoundation.Python.3.12_qbz5n2kfra8p0\\LocalCache\\local-packages\\Python312\\site-packages\\sklearn\\neural_network\\_multilayer_perceptron.py:691: ConvergenceWarning: Stochastic Optimizer: Maximum iterations (200) reached and the optimization hasn't converged yet.\n",
      "  warnings.warn(\n",
      "C:\\Users\\emdua\\AppData\\Local\\Packages\\PythonSoftwareFoundation.Python.3.12_qbz5n2kfra8p0\\LocalCache\\local-packages\\Python312\\site-packages\\sklearn\\neural_network\\_multilayer_perceptron.py:691: ConvergenceWarning: Stochastic Optimizer: Maximum iterations (200) reached and the optimization hasn't converged yet.\n",
      "  warnings.warn(\n",
      "C:\\Users\\emdua\\AppData\\Local\\Packages\\PythonSoftwareFoundation.Python.3.12_qbz5n2kfra8p0\\LocalCache\\local-packages\\Python312\\site-packages\\sklearn\\neural_network\\_multilayer_perceptron.py:691: ConvergenceWarning: Stochastic Optimizer: Maximum iterations (200) reached and the optimization hasn't converged yet.\n",
      "  warnings.warn(\n",
      "C:\\Users\\emdua\\AppData\\Local\\Packages\\PythonSoftwareFoundation.Python.3.12_qbz5n2kfra8p0\\LocalCache\\local-packages\\Python312\\site-packages\\sklearn\\neural_network\\_multilayer_perceptron.py:691: ConvergenceWarning: Stochastic Optimizer: Maximum iterations (200) reached and the optimization hasn't converged yet.\n",
      "  warnings.warn(\n",
      "C:\\Users\\emdua\\AppData\\Local\\Packages\\PythonSoftwareFoundation.Python.3.12_qbz5n2kfra8p0\\LocalCache\\local-packages\\Python312\\site-packages\\sklearn\\neural_network\\_multilayer_perceptron.py:691: ConvergenceWarning: Stochastic Optimizer: Maximum iterations (200) reached and the optimization hasn't converged yet.\n",
      "  warnings.warn(\n",
      "C:\\Users\\emdua\\AppData\\Local\\Packages\\PythonSoftwareFoundation.Python.3.12_qbz5n2kfra8p0\\LocalCache\\local-packages\\Python312\\site-packages\\sklearn\\neural_network\\_multilayer_perceptron.py:691: ConvergenceWarning: Stochastic Optimizer: Maximum iterations (200) reached and the optimization hasn't converged yet.\n",
      "  warnings.warn(\n"
     ]
    },
    {
     "name": "stdout",
     "output_type": "stream",
     "text": [
      "-2.2662382943875676\n",
      "26422.56257134803\n",
      "0.4715116238829166\n",
      "-2.190833823622569\n",
      "19496.96763345384\n",
      "0.4904025469518847\n",
      "-6.22351328079365\n",
      "34012.48458118511\n",
      "0.7474831787739739\n"
     ]
    },
    {
     "name": "stderr",
     "output_type": "stream",
     "text": [
      "C:\\Users\\emdua\\AppData\\Local\\Packages\\PythonSoftwareFoundation.Python.3.12_qbz5n2kfra8p0\\LocalCache\\local-packages\\Python312\\site-packages\\sklearn\\neural_network\\_multilayer_perceptron.py:691: ConvergenceWarning: Stochastic Optimizer: Maximum iterations (200) reached and the optimization hasn't converged yet.\n",
      "  warnings.warn(\n",
      "C:\\Users\\emdua\\AppData\\Local\\Packages\\PythonSoftwareFoundation.Python.3.12_qbz5n2kfra8p0\\LocalCache\\local-packages\\Python312\\site-packages\\sklearn\\neural_network\\_multilayer_perceptron.py:691: ConvergenceWarning: Stochastic Optimizer: Maximum iterations (200) reached and the optimization hasn't converged yet.\n",
      "  warnings.warn(\n",
      "C:\\Users\\emdua\\AppData\\Local\\Packages\\PythonSoftwareFoundation.Python.3.12_qbz5n2kfra8p0\\LocalCache\\local-packages\\Python312\\site-packages\\sklearn\\neural_network\\_multilayer_perceptron.py:691: ConvergenceWarning: Stochastic Optimizer: Maximum iterations (200) reached and the optimization hasn't converged yet.\n",
      "  warnings.warn(\n",
      "C:\\Users\\emdua\\AppData\\Local\\Packages\\PythonSoftwareFoundation.Python.3.12_qbz5n2kfra8p0\\LocalCache\\local-packages\\Python312\\site-packages\\sklearn\\neural_network\\_multilayer_perceptron.py:691: ConvergenceWarning: Stochastic Optimizer: Maximum iterations (200) reached and the optimization hasn't converged yet.\n",
      "  warnings.warn(\n",
      "C:\\Users\\emdua\\AppData\\Local\\Packages\\PythonSoftwareFoundation.Python.3.12_qbz5n2kfra8p0\\LocalCache\\local-packages\\Python312\\site-packages\\sklearn\\neural_network\\_multilayer_perceptron.py:691: ConvergenceWarning: Stochastic Optimizer: Maximum iterations (200) reached and the optimization hasn't converged yet.\n",
      "  warnings.warn(\n",
      "C:\\Users\\emdua\\AppData\\Local\\Packages\\PythonSoftwareFoundation.Python.3.12_qbz5n2kfra8p0\\LocalCache\\local-packages\\Python312\\site-packages\\sklearn\\neural_network\\_multilayer_perceptron.py:691: ConvergenceWarning: Stochastic Optimizer: Maximum iterations (200) reached and the optimization hasn't converged yet.\n",
      "  warnings.warn(\n",
      "C:\\Users\\emdua\\AppData\\Local\\Packages\\PythonSoftwareFoundation.Python.3.12_qbz5n2kfra8p0\\LocalCache\\local-packages\\Python312\\site-packages\\sklearn\\neural_network\\_multilayer_perceptron.py:691: ConvergenceWarning: Stochastic Optimizer: Maximum iterations (200) reached and the optimization hasn't converged yet.\n",
      "  warnings.warn(\n",
      "C:\\Users\\emdua\\AppData\\Local\\Packages\\PythonSoftwareFoundation.Python.3.12_qbz5n2kfra8p0\\LocalCache\\local-packages\\Python312\\site-packages\\sklearn\\neural_network\\_multilayer_perceptron.py:691: ConvergenceWarning: Stochastic Optimizer: Maximum iterations (200) reached and the optimization hasn't converged yet.\n",
      "  warnings.warn(\n",
      "C:\\Users\\emdua\\AppData\\Local\\Packages\\PythonSoftwareFoundation.Python.3.12_qbz5n2kfra8p0\\LocalCache\\local-packages\\Python312\\site-packages\\sklearn\\neural_network\\_multilayer_perceptron.py:691: ConvergenceWarning: Stochastic Optimizer: Maximum iterations (200) reached and the optimization hasn't converged yet.\n",
      "  warnings.warn(\n",
      "C:\\Users\\emdua\\AppData\\Local\\Packages\\PythonSoftwareFoundation.Python.3.12_qbz5n2kfra8p0\\LocalCache\\local-packages\\Python312\\site-packages\\sklearn\\neural_network\\_multilayer_perceptron.py:691: ConvergenceWarning: Stochastic Optimizer: Maximum iterations (200) reached and the optimization hasn't converged yet.\n",
      "  warnings.warn(\n"
     ]
    },
    {
     "name": "stdout",
     "output_type": "stream",
     "text": [
      "-2.0366108475394453\n",
      "23644.16383100409\n",
      "0.4944030263878231\n",
      "-33.715139003981925\n",
      "72702.72134455146\n",
      "1.0921458276424947\n"
     ]
    },
    {
     "name": "stderr",
     "output_type": "stream",
     "text": [
      "C:\\Users\\emdua\\AppData\\Local\\Packages\\PythonSoftwareFoundation.Python.3.12_qbz5n2kfra8p0\\LocalCache\\local-packages\\Python312\\site-packages\\sklearn\\neural_network\\_multilayer_perceptron.py:691: ConvergenceWarning: Stochastic Optimizer: Maximum iterations (200) reached and the optimization hasn't converged yet.\n",
      "  warnings.warn(\n",
      "C:\\Users\\emdua\\AppData\\Local\\Packages\\PythonSoftwareFoundation.Python.3.12_qbz5n2kfra8p0\\LocalCache\\local-packages\\Python312\\site-packages\\sklearn\\neural_network\\_multilayer_perceptron.py:691: ConvergenceWarning: Stochastic Optimizer: Maximum iterations (200) reached and the optimization hasn't converged yet.\n",
      "  warnings.warn(\n",
      "C:\\Users\\emdua\\AppData\\Local\\Packages\\PythonSoftwareFoundation.Python.3.12_qbz5n2kfra8p0\\LocalCache\\local-packages\\Python312\\site-packages\\sklearn\\neural_network\\_multilayer_perceptron.py:691: ConvergenceWarning: Stochastic Optimizer: Maximum iterations (200) reached and the optimization hasn't converged yet.\n",
      "  warnings.warn(\n",
      "C:\\Users\\emdua\\AppData\\Local\\Packages\\PythonSoftwareFoundation.Python.3.12_qbz5n2kfra8p0\\LocalCache\\local-packages\\Python312\\site-packages\\sklearn\\neural_network\\_multilayer_perceptron.py:691: ConvergenceWarning: Stochastic Optimizer: Maximum iterations (200) reached and the optimization hasn't converged yet.\n",
      "  warnings.warn(\n"
     ]
    }
   ],
   "source": [
    "s = wholeFeaturesList = ['DISPLAY (inch)','STORAGE (gb)','MEMORY (gb)','CPU (cores)','CPU SPEED (GHz)','GPU (cores)','GPU BENCHMARK (3DMark)','WEIGHT (gm)','MAIN CAMERA (mp)','FRONT CAMERA (mp)','NUMBER OF CAMERAS (back)','SUM OF MEGAPIXELS','BATTERY (mAh)']\n",
    "for feature in s:\n",
    "    modelScore(df[feature].to_numpy().reshape(-1, 1), emissions, 'neural network')"
   ]
  },
  {
   "cell_type": "code",
   "execution_count": null,
   "metadata": {},
   "outputs": [
    {
     "name": "stdout",
     "output_type": "stream",
     "text": [
      "\n",
      "171.23125518630968\n",
      "0.1303095008231994\n",
      "\n",
      "335.58962121212113\n",
      "0.16288624817441094\n",
      "\n",
      "271.22949897674226\n",
      "0.15481252333059933\n",
      "\n",
      "171.43593309036817\n",
      "0.12875351106244004\n",
      "\n",
      "171.23125518630977\n",
      "0.13030950082319942\n",
      "\n",
      "1427.5162958590508\n",
      "0.3560086321795024\n",
      "\n",
      "171.23147578037322\n",
      "0.13031146340131505\n"
     ]
    }
   ],
   "source": [
    "#weight\n",
    "for model in modelsList:\n",
    "    (modelScore(weight, emissions, model))"
   ]
  },
  {
   "cell_type": "code",
   "execution_count": 58,
   "metadata": {},
   "outputs": [
    {
     "name": "stdout",
     "output_type": "stream",
     "text": [
      "\n",
      "118.30108054642642\n",
      "0.11852022567553955\n",
      "\n",
      "192.01237794612794\n",
      "0.1270849542535463\n",
      "\n",
      "180.76631961449615\n",
      "0.12543349101536974\n",
      "\n",
      "116.63005942973193\n",
      "0.11086596628530454\n",
      "\n",
      "118.30108054642648\n",
      "0.11852022567553953\n",
      "\n",
      "1427.5162958590508\n",
      "0.3560086321795024\n",
      "\n",
      "118.29297264233148\n",
      "0.11862141795548596\n"
     ]
    }
   ],
   "source": [
    "for model in modelsList:\n",
    "    (modelScore(display, emissions, model))"
   ]
  },
  {
   "cell_type": "code",
   "execution_count": 59,
   "metadata": {},
   "outputs": [
    {
     "name": "stdout",
     "output_type": "stream",
     "text": [
      "\n",
      "1079.557143485986\n",
      "0.3678408447123354\n",
      "\n",
      "1313.9491612782056\n",
      "0.40632172842369807\n",
      "\n",
      "1288.1795394667968\n",
      "0.4032940868628461\n",
      "\n",
      "1560.4803596364115\n",
      "0.331185445801651\n",
      "\n",
      "1079.557143485986\n",
      "0.3678408447123354\n",
      "\n",
      "1427.5162958590508\n",
      "0.3560086321795024\n",
      "\n",
      "1079.5570591369608\n",
      "0.3678428269481395\n"
     ]
    }
   ],
   "source": [
    "#storage\n",
    "for model in modelsList:\n",
    "    (modelScore(storage, emissions, model))"
   ]
  },
  {
   "cell_type": "code",
   "execution_count": 60,
   "metadata": {},
   "outputs": [
    {
     "name": "stdout",
     "output_type": "stream",
     "text": [
      "\n",
      "652.9377473701124\n",
      "0.28294781148003384\n",
      "\n",
      "662.3999479377104\n",
      "0.26210627320975544\n",
      "\n",
      "677.682682955297\n",
      "0.2678177750973621\n",
      "\n",
      "919.6912878787881\n",
      "0.2925892414031222\n",
      "\n",
      "652.9377473701126\n",
      "0.28294781148003384\n",
      "\n",
      "1427.5162958590508\n",
      "0.3560086321795024\n",
      "\n",
      "653.0319608850677\n",
      "0.282987996644028\n"
     ]
    }
   ],
   "source": [
    "for model in modelsList:\n",
    "    modelScore(memory, emissions, model)"
   ]
  },
  {
   "cell_type": "code",
   "execution_count": 61,
   "metadata": {},
   "outputs": [
    {
     "name": "stdout",
     "output_type": "stream",
     "text": [
      "\n",
      "1399.52314453125\n",
      "0.4245708301381165\n",
      "\n",
      "1399.5231445312497\n",
      "0.42457083013811625\n",
      "\n",
      "1397.5496108283912\n",
      "0.42369488105251085\n",
      "\n",
      "1689.2260606060609\n",
      "0.26295409775299045\n",
      "\n",
      "1399.52314453125\n",
      "0.4245708301381165\n",
      "\n",
      "1427.5162958590508\n",
      "0.3560086321795024\n",
      "\n",
      "1399.52314453125\n",
      "0.4245708301381165\n"
     ]
    }
   ],
   "source": [
    "#cpu\n",
    "for model in modelsList:\n",
    "    (modelScore(cpu, emissions, model))"
   ]
  },
  {
   "cell_type": "code",
   "execution_count": 62,
   "metadata": {},
   "outputs": [
    {
     "name": "stdout",
     "output_type": "stream",
     "text": [
      "\n",
      "1329.691190739652\n",
      "0.4164745613646514\n",
      "\n",
      "1057.9895999999997\n",
      "0.36226933114346205\n",
      "\n",
      "1081.426294369278\n",
      "0.3789483965506831\n",
      "\n",
      "1623.0021342038033\n",
      "0.2370055616721649\n",
      "\n",
      "1329.6911907396518\n",
      "0.41647456136465133\n",
      "\n",
      "1427.5162958590508\n",
      "0.3560086321795024\n",
      "\n",
      "1329.4742266039818\n",
      "0.4165918990426969\n"
     ]
    }
   ],
   "source": [
    "#cpu\n",
    "for model in modelsList:\n",
    "    (modelScore(cpuSpeed, emissions, model))"
   ]
  },
  {
   "cell_type": "code",
   "execution_count": 63,
   "metadata": {},
   "outputs": [
    {
     "name": "stdout",
     "output_type": "stream",
     "text": [
      "\n",
      "1402.0126066280116\n",
      "0.41963032877205053\n",
      "\n",
      "1402.0126066280118\n",
      "0.4196303287720506\n",
      "\n",
      "1394.9606389055991\n",
      "0.417491115586348\n",
      "\n",
      "1689.226060606061\n",
      "0.2629540977529906\n",
      "\n",
      "1402.0126066280116\n",
      "0.41963032877205053\n",
      "\n",
      "1427.5162958590508\n",
      "0.3560086321795024\n",
      "\n",
      "1402.0151897957976\n",
      "0.42019319670568234\n"
     ]
    }
   ],
   "source": [
    "#cpu\n",
    "for model in modelsList:\n",
    "    (modelScore(gpu, emissions, model))"
   ]
  },
  {
   "cell_type": "code",
   "execution_count": 64,
   "metadata": {},
   "outputs": [
    {
     "name": "stdout",
     "output_type": "stream",
     "text": [
      "\n",
      "1336.3695596486195\n",
      "0.42406381877484933\n",
      "\n",
      "1024.9733519360268\n",
      "0.35701541718949287\n",
      "\n",
      "1044.9779505128554\n",
      "0.3765596449710384\n",
      "\n",
      "1407.1045479787385\n",
      "0.4286358609906946\n",
      "\n",
      "1336.3695596486193\n",
      "0.42406381877484933\n",
      "\n",
      "1427.5162958590508\n",
      "0.3560086321795024\n",
      "\n",
      "1336.3695336154092\n",
      "0.42406383956891214\n"
     ]
    }
   ],
   "source": [
    "#cpu\n",
    "for model in modelsList:\n",
    "    (modelScore(gpuBench, emissions, model))"
   ]
  },
  {
   "cell_type": "code",
   "execution_count": 65,
   "metadata": {},
   "outputs": [
    {
     "name": "stdout",
     "output_type": "stream",
     "text": [
      "\n",
      "171.23125518630968\n",
      "0.1303095008231994\n",
      "\n",
      "335.58962121212113\n",
      "0.16288624817441094\n",
      "\n",
      "271.22949897674226\n",
      "0.15481252333059933\n",
      "\n",
      "171.43593309036817\n",
      "0.12875351106244004\n",
      "\n",
      "171.23125518630977\n",
      "0.13030950082319942\n",
      "\n",
      "1427.5162958590508\n",
      "0.3560086321795024\n",
      "\n",
      "171.23147578037322\n",
      "0.13031146340131505\n"
     ]
    }
   ],
   "source": [
    "#weight\n",
    "for model in modelsList:\n",
    "    (modelScore(weight, emissions, model))"
   ]
  },
  {
   "cell_type": "code",
   "execution_count": 66,
   "metadata": {},
   "outputs": [
    {
     "name": "stdout",
     "output_type": "stream",
     "text": [
      "\n",
      "641.720804748676\n",
      "0.28537158627345927\n",
      "\n",
      "462.5715752525253\n",
      "0.18829319621355578\n",
      "\n",
      "409.0823885743371\n",
      "0.17813686310544258\n",
      "\n",
      "773.6593379696866\n",
      "0.2757308417332882\n",
      "\n",
      "641.720804748676\n",
      "0.28537158627345927\n",
      "\n",
      "1427.5162958590508\n",
      "0.3560086321795024\n",
      "\n",
      "641.7051618465628\n",
      "0.2853646144608984\n"
     ]
    }
   ],
   "source": [
    "#camera\n",
    "for model in modelsList:\n",
    "    (modelScore(mainCamera, emissions, model))"
   ]
  },
  {
   "cell_type": "code",
   "execution_count": 67,
   "metadata": {},
   "outputs": [
    {
     "name": "stdout",
     "output_type": "stream",
     "text": [
      "\n",
      "1533.1261153678956\n",
      "0.4470396050783927\n",
      "\n",
      "1183.1767605542605\n",
      "0.3087344481276796\n",
      "\n",
      "1185.539198809111\n",
      "0.3296749062441827\n",
      "\n",
      "1702.9813086596134\n",
      "0.2580970223776501\n",
      "\n",
      "1533.1261153678959\n",
      "0.4470396050783927\n",
      "\n",
      "1427.5162958590508\n",
      "0.3560086321795024\n",
      "\n",
      "1531.680522335669\n",
      "0.44674907955385496\n"
     ]
    }
   ],
   "source": [
    "#camera\n",
    "for model in modelsList:\n",
    "    (modelScore(frontCamera, emissions, model))"
   ]
  },
  {
   "cell_type": "code",
   "execution_count": 68,
   "metadata": {},
   "outputs": [
    {
     "name": "stdout",
     "output_type": "stream",
     "text": [
      "\n",
      "961.0179601079345\n",
      "0.27994581015391073\n",
      "\n",
      "573.7498739916169\n",
      "0.2152047481049733\n",
      "\n",
      "571.6879504437717\n",
      "0.21558502739287866\n",
      "\n",
      "1322.1290909090912\n",
      "0.2549859149219603\n",
      "\n",
      "961.0179601079344\n",
      "0.27994581015391073\n",
      "\n",
      "1427.5162958590508\n",
      "0.3560086321795024\n",
      "\n",
      "959.8359329936076\n",
      "0.28079886966652473\n"
     ]
    }
   ],
   "source": [
    "#camera\n",
    "for model in modelsList:\n",
    "    (modelScore(numCameras, emissions, model))"
   ]
  },
  {
   "cell_type": "code",
   "execution_count": 69,
   "metadata": {},
   "outputs": [
    {
     "name": "stdout",
     "output_type": "stream",
     "text": [
      "\n",
      "835.762404887283\n",
      "0.31401093561493043\n",
      "\n",
      "1112.5126798821548\n",
      "0.2665324074732234\n",
      "\n",
      "855.9080049103399\n",
      "0.23407060315278716\n",
      "\n",
      "1017.886034342459\n",
      "0.2994809304047073\n",
      "\n",
      "835.7624048872834\n",
      "0.3140109356149305\n",
      "\n",
      "1427.5162958590508\n",
      "0.3560086321795024\n",
      "\n",
      "835.727199293723\n",
      "0.3140044353644747\n"
     ]
    }
   ],
   "source": [
    "#camera\n",
    "for model in modelsList:\n",
    "    (modelScore(megapixels, emissions, model))"
   ]
  },
  {
   "cell_type": "code",
   "execution_count": 70,
   "metadata": {},
   "outputs": [
    {
     "name": "stdout",
     "output_type": "stream",
     "text": [
      "\n",
      "228.52299882520083\n",
      "0.16992204525259924\n",
      "\n",
      "234.25285061357374\n",
      "0.1460876115104805\n",
      "\n",
      "230.48589693287747\n",
      "0.14911825876410983\n",
      "\n",
      "236.96044238203794\n",
      "0.1698727902253952\n",
      "\n",
      "228.52299882520083\n",
      "0.16992204525259919\n",
      "\n",
      "1427.5162958590508\n",
      "0.3560086321795024\n",
      "\n",
      "228.52302392419017\n",
      "0.1699221331041106\n"
     ]
    }
   ],
   "source": [
    "#battery\n",
    "for model in modelsList:\n",
    "    (modelScore(battery, emissions, model))"
   ]
  },
  {
   "cell_type": "code",
   "execution_count": null,
   "metadata": {},
   "outputs": [],
   "source": []
  }
 ],
 "metadata": {
  "kernelspec": {
   "display_name": "Python 3",
   "language": "python",
   "name": "python3"
  },
  "language_info": {
   "codemirror_mode": {
    "name": "ipython",
    "version": 3
   },
   "file_extension": ".py",
   "mimetype": "text/x-python",
   "name": "python",
   "nbconvert_exporter": "python",
   "pygments_lexer": "ipython3",
   "version": "3.12.2"
  }
 },
 "nbformat": 4,
 "nbformat_minor": 2
}
