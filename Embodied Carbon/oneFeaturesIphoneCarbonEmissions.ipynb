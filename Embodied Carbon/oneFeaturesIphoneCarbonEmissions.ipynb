{
 "cells": [
  {
   "cell_type": "code",
   "execution_count": 2,
   "id": "ec940520-6865-4048-9974-0e6ed49ba6fb",
   "metadata": {
    "tags": []
   },
   "outputs": [],
   "source": [
    "import pandas as pd\n",
    "import numpy as np\n",
    "from sklearn.model_selection import train_test_split\n",
    "from sklearn.ensemble import RandomForestRegressor\n",
    "from sklearn.linear_model import LinearRegression\n",
    "from sklearn.preprocessing import PolynomialFeatures\n",
    "from sklearn import tree\n",
    "from sklearn.svm import SVR\n",
    "from sklearn.metrics import r2_score\n",
    "from sklearn.metrics import mean_absolute_percentage_error"
   ]
  },
  {
   "cell_type": "code",
   "execution_count": 4,
   "id": "0b6ce06c-71c5-45e4-b0c8-eeb5dbd72636",
   "metadata": {
    "tags": []
   },
   "outputs": [],
   "source": [
    "df = pd.read_csv('IphoneData.csv')\n",
    "emissions = df['CO2E']\n",
    "display = df['DISPLAY (inch)']\n",
    "storage = df['STORAGE (gb)']\n",
    "memory = df['MEMORY (gb)']\n",
    "cpu = df['CPU (cores)']\n",
    "gpu = df['GPU (cores)']\n",
    "neuralEngine = df['NEURAL ENGINE (cores)']\n",
    "weight = df['WEIGHT (gm)']\n",
    "frontCamera = df['FRONT CAMERA (mp)']\n",
    "battery = df['BATTERY (mAh)']\n",
    "numCameras = df['number of camera (back)']\n",
    "megapixels = df['Sum of megapixels']\n",
    "mainCamera = df['MAIN CAMERA (mp)']"
   ]
  },
  {
   "cell_type": "code",
   "execution_count": null,
   "id": "f83b2593-3a11-4316-a062-c2591599e926",
   "metadata": {
    "tags": []
   },
   "outputs": [],
   "source": [
    "def modelScore(X, y, model):\n",
    "    X = X.values.reshape(-1, 1)\n",
    "    y = y.values.reshape(-1, 1)\n",
    "    X_train, X_test, y_train, y_test = train_test_split(X, y, random_state=42, train_size = .75)\n",
    "    \n",
    "    if model == 'linear regression':\n",
    "        fittedModel = LinearRegression().fit(X_train, y_train)\n",
    "        \n",
    "    elif model == 'decision tree':\n",
    "        fittedModel = tree.DecisionTreeRegressor().fit(X_train, y_train)\n",
    "        \n",
    "    elif model == 'random forest':\n",
    "        y_train = y_train.flatten()\n",
    "        fittedModel = RandomForestRegressor().fit(X_train, y_train)\n",
    "        \n",
    "    elif model == 'support vector regression':\n",
    "        y_train = y_train.flatten()\n",
    "        fittedModel = SVR(kernel=\"linear\").fit(X_train, y_train)   \n",
    "        \n",
    "    elif model == 'polynomial regression':\n",
    "        polyX = PolynomialFeatures(degree=2).fit_transform(X)\n",
    "        polyX_train, polyX_test, polyy_train, polyy_test = train_test_split(polyX, y, random_state=42, train_size=.75)\n",
    "        fittedModel = LinearRegression().fit(polyX_train, polyy_train)\n",
    "        X_test = polyX_test \n",
    "    \n",
    "    y_pred = fittedModel.predict(X_test)\n",
    "    \n",
    "    r2 = r2_score(y_test, y_pred)    \n",
    "    sse = np.sum((y_test - y_pred) ** 2)\n",
    "    mape = mean_absolute_percentage_error(y_test, y_pred)\n",
    "    \n",
    "   #print results\n",
    "    \"\"\"print(model)\n",
    "    print(\"R2 = \" + str(r2))\n",
    "    print(\"SSE = \" + str(sse))\n",
    "    print(\"MAPE = \" + str(mape))\"\"\"\n",
    "    print(r2)\n",
    "    print(str(sse))\n",
    "    print(str(mape))"
   ]
  },
  {
   "cell_type": "code",
   "execution_count": null,
   "id": "021c6d43-893d-448c-af63-610275039a18",
   "metadata": {
    "tags": []
   },
   "outputs": [],
   "source": [
    "#modelsList = ['linear regression', 'decision tree', 'random forest', 'support vector regression']\n",
    "modelsList = ['polynomial regression']"
   ]
  },
  {
   "cell_type": "code",
   "execution_count": null,
   "id": "f6bcd01b-e907-4764-a1e6-ef65f7bb4831",
   "metadata": {
    "tags": []
   },
   "outputs": [
    {
     "name": "stdout",
     "output_type": "stream",
     "text": [
      "0.08293464240098658\n",
      "55301.001602172895\n",
      "0.18985013796166847\n",
      "None\n"
     ]
    }
   ],
   "source": [
    "#display\n",
    "for model in modelsList:\n",
    "    print(modelScore(display, emissions, model))"
   ]
  },
  {
   "cell_type": "code",
   "execution_count": null,
   "id": "b118c5d9-5e7e-43d6-bbc8-f32abbed5b3b",
   "metadata": {
    "tags": []
   },
   "outputs": [
    {
     "name": "stdout",
     "output_type": "stream",
     "text": [
      "0.6629563200619698\n",
      "79569.61142862828\n",
      "0.134360688483299\n",
      "None\n"
     ]
    }
   ],
   "source": [
    "#storage\n",
    "for model in modelsList:\n",
    "    print(modelScore(storage, emissions, model))"
   ]
  },
  {
   "cell_type": "code",
   "execution_count": null,
   "id": "498ff2c1-b883-48de-955a-9d30efe6647d",
   "metadata": {},
   "outputs": [
    {
     "name": "stdout",
     "output_type": "stream",
     "text": [
      "-0.009679165056050376\n",
      "53937.600000000006\n",
      "0.20351560059328122\n"
     ]
    }
   ],
   "source": [
    "#memory\n",
    "for model in modelsList:\n",
    "    modelScore(memory, emissions, model)"
   ]
  },
  {
   "cell_type": "code",
   "execution_count": null,
   "id": "1d042f9e-6689-4834-8770-47932cb05c0b",
   "metadata": {
    "tags": []
   },
   "outputs": [
    {
     "name": "stdout",
     "output_type": "stream",
     "text": [
      "-0.04831851565519907\n",
      "54240.0\n",
      "0.20978244195213136\n"
     ]
    }
   ],
   "source": [
    "#cpu\n",
    "for model in modelsList:\n",
    "    (modelScore(cpu, emissions, model))"
   ]
  },
  {
   "cell_type": "code",
   "execution_count": null,
   "id": "e99f27a5-3cd9-4c51-9dc9-070f0b89b217",
   "metadata": {
    "tags": []
   },
   "outputs": [
    {
     "name": "stdout",
     "output_type": "stream",
     "text": [
      "-0.00967916505604971\n",
      "53937.600000000006\n",
      "0.20351560059328114\n"
     ]
    }
   ],
   "source": [
    "#gpu\n",
    "for model in modelsList:\n",
    "    (modelScore(gpu, emissions, model))"
   ]
  },
  {
   "cell_type": "code",
   "execution_count": null,
   "id": "d0625612-e88c-4030-92e8-8bd0e089540f",
   "metadata": {
    "tags": []
   },
   "outputs": [
    {
     "name": "stdout",
     "output_type": "stream",
     "text": [
      "-0.04587862388867525\n",
      "53588.96000000009\n",
      "0.20985104334200286\n"
     ]
    }
   ],
   "source": [
    "#neural engine\n",
    "for model in modelsList:\n",
    "    (modelScore(neuralEngine, emissions, model))"
   ]
  },
  {
   "cell_type": "code",
   "execution_count": null,
   "id": "7dcea2e4-f5c8-40cf-af0c-381779511a6e",
   "metadata": {
    "tags": []
   },
   "outputs": [
    {
     "name": "stdout",
     "output_type": "stream",
     "text": [
      "0.40831499770540436\n",
      "62190.00137357658\n",
      "0.15003769468223913\n"
     ]
    }
   ],
   "source": [
    "#weight\n",
    "for model in modelsList:\n",
    "    (modelScore(weight, emissions, model))"
   ]
  },
  {
   "cell_type": "code",
   "execution_count": null,
   "id": "58f156d0-6dfd-45c1-ba71-757a1ac6051e",
   "metadata": {
    "tags": []
   },
   "outputs": [
    {
     "name": "stdout",
     "output_type": "stream",
     "text": [
      "-0.06105604947815757\n",
      "54169.439999999915\n",
      "0.22039603797464946\n"
     ]
    }
   ],
   "source": [
    "#camera\n",
    "for model in modelsList:\n",
    "    (modelScore(camera, emissions, model))"
   ]
  },
  {
   "cell_type": "code",
   "execution_count": null,
   "id": "a5957262-daf2-4bf1-b945-147d2cc7bc69",
   "metadata": {
    "tags": []
   },
   "outputs": [
    {
     "name": "stdout",
     "output_type": "stream",
     "text": [
      "0.0700727998724161\n",
      "57132.8307379457\n",
      "0.1880184705512142\n"
     ]
    }
   ],
   "source": [
    "#battery\n",
    "for model in modelsList:\n",
    "    (modelScore(battery, emissions, model))"
   ]
  },
  {
   "cell_type": "code",
   "execution_count": null,
   "id": "38766e15-e862-42f3-ba41-fb0fc4ea6b0f",
   "metadata": {},
   "outputs": [],
   "source": [
    "for model in modelsList:\n",
    "    (modelScore(, emissions, model))"
   ]
  }
 ],
 "metadata": {
  "kernelspec": {
   "display_name": "Python 3 (ipykernel)",
   "language": "python",
   "name": "python3"
  },
  "language_info": {
   "codemirror_mode": {
    "name": "ipython",
    "version": 3
   },
   "file_extension": ".py",
   "mimetype": "text/x-python",
   "name": "python",
   "nbconvert_exporter": "python",
   "pygments_lexer": "ipython3",
   "version": "3.11.5"
  }
 },
 "nbformat": 4,
 "nbformat_minor": 5
}
