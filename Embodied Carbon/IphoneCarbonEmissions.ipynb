{
 "cells": [
  {
   "cell_type": "code",
   "execution_count": 54,
   "id": "5b37cbd0-44c4-44b0-83c6-30efab178887",
   "metadata": {
    "tags": []
   },
   "outputs": [],
   "source": [
    "import pandas as pd\n",
    "import numpy as np\n",
    "from sklearn.model_selection import train_test_split\n",
    "from sklearn.ensemble import RandomForestRegressor\n",
    "from sklearn.linear_model import LinearRegression\n",
    "from sklearn import tree\n",
    "from sklearn.preprocessing import PolynomialFeatures\n",
    "from sklearn.svm import SVR\n",
    "from sklearn.metrics import r2_score\n",
    "from sklearn.metrics import mean_absolute_percentage_error"
   ]
  },
  {
   "cell_type": "code",
   "execution_count": 55,
   "id": "5bfb479c-eaa6-4594-b2da-b7ab370688c5",
   "metadata": {
    "tags": []
   },
   "outputs": [],
   "source": [
    "df = pd.read_csv('IphoneData.csv')\n",
    "newdf = df.drop(columns=['NAME', 'CO2E'])\n",
    "features = newdf.to_numpy()\n",
    "emissions = df['CO2E'].to_numpy()"
   ]
  },
  {
   "cell_type": "code",
   "execution_count": 46,
   "id": "58c3538f-ce54-4aee-94f2-1662ee08c84d",
   "metadata": {
    "tags": []
   },
   "outputs": [],
   "source": [
    "def modelScore(X, y, model):\n",
    "    X_train, X_test, y_train, y_test = train_test_split(X, y, random_state=42, train_size = .75)\n",
    "    \n",
    "\n",
    "    if model == 'linear regression':\n",
    "        fittedModel = LinearRegression().fit(X_train, y_train)\n",
    "            \n",
    "    elif model == 'decision tree':\n",
    "        fittedModel = tree.DecisionTreeRegressor().fit(X_train, y_train)\n",
    "            \n",
    "    elif model == 'random forest':\n",
    "        y_train = y_train.flatten()\n",
    "        fittedModel = RandomForestRegressor().fit(X_train, y_train)\n",
    "\n",
    "    elif model == 'support vector regression':\n",
    "        y_train = y_train.flatten()\n",
    "        fittedModel = SVR(kernel = 'linear').fit(X_train, y_train)    \n",
    " \n",
    "    elif model == 'polynomial regression':\n",
    "        polyX = PolynomialFeatures(degree=2).fit_transform(X)\n",
    "        polyX_train, polyX_test, polyy_train, polyy_test = train_test_split(polyX, y, random_state=42, train_size=.75)\n",
    "        fittedModel = LinearRegression().fit(polyX_train, polyy_train)\n",
    "        X_test = polyX_test\n",
    "\n",
    "    y_pred = fittedModel.predict(X_test)\n",
    "    \n",
    "    r2 = r2_score(y_test, y_pred)    \n",
    "    sse = np.sum((y_test - y_pred) ** 2)\n",
    "    mape = mean_absolute_percentage_error(y_test, y_pred)\n",
    "    \n",
    "   #print results\n",
    "    print(model)\n",
    "    print(\"R2 = \" + str(r2))\n",
    "    print(\"SSE = \" + str(sse))\n",
    "    print(\"MAPE = \" + str(mape))"
   ]
  },
  {
   "cell_type": "code",
   "execution_count": 5,
   "id": "9da4e3f3-4503-488d-ae18-ea6dd7ffa012",
   "metadata": {
    "tags": []
   },
   "outputs": [
    {
     "name": "stdout",
     "output_type": "stream",
     "text": [
      "linear regression\n",
      "R2 = 0.9210088454620518\n",
      "SSE = 340.5835279827868\n",
      "MAPE = 0.04867998113160696\n"
     ]
    }
   ],
   "source": [
    "modelScore(features, emissions, 'linear regression')"
   ]
  },
  {
   "cell_type": "code",
   "execution_count": 6,
   "id": "dea144cd-d89f-4a68-bb65-58903aabb0c3",
   "metadata": {
    "tags": []
   },
   "outputs": [
    {
     "name": "stdout",
     "output_type": "stream",
     "text": [
      "decision tree\n",
      "R2 = 0.838113645148821\n",
      "SSE = 698.0\n",
      "MAPE = 0.1007999173605792\n"
     ]
    }
   ],
   "source": [
    "modelScore(features, emissions, 'decision tree')"
   ]
  },
  {
   "cell_type": "code",
   "execution_count": 41,
   "id": "e06cf85c-39d6-4ab8-8adb-41964e647dfa",
   "metadata": {
    "tags": []
   },
   "outputs": [
    {
     "name": "stdout",
     "output_type": "stream",
     "text": [
      "random forest\n",
      "R2 = 0.7631965365287978\n",
      "SSE = 1021.0175999999999\n",
      "MAPE = 0.1197113016815351\n"
     ]
    }
   ],
   "source": [
    "modelScore(features, emissions, 'random forest')"
   ]
  },
  {
   "cell_type": "code",
   "execution_count": 40,
   "id": "bfa89dc1-b49b-4a6b-aeae-2fb747ad2747",
   "metadata": {
    "tags": []
   },
   "outputs": [
    {
     "name": "stdout",
     "output_type": "stream",
     "text": [
      "support vector regression\n",
      "R2 = 0.7969520639952627\n",
      "SSE = 875.4750174070921\n",
      "MAPE = 0.0890968384980616\n"
     ]
    }
   ],
   "source": [
    "modelScore(features, emissions, 'support vector regression')"
   ]
  },
  {
   "cell_type": "code",
   "execution_count": 48,
   "id": "fdfdefef-95c2-438a-b1a0-8487f80f1ff6",
   "metadata": {},
   "outputs": [
    {
     "name": "stdout",
     "output_type": "stream",
     "text": [
      "polynomial regression\n",
      "R2 = 0.9582546957391193\n",
      "SSE = 179.99183687149736\n",
      "MAPE = 0.04579050585792105\n"
     ]
    }
   ],
   "source": [
    "modelScore(features, emissions, 'polynomial regression')"
   ]
  },
  {
   "cell_type": "code",
   "execution_count": 52,
   "id": "0eff29e5",
   "metadata": {},
   "outputs": [],
   "source": [
    "modelsList = ['linear regression', 'decision tree', 'random forest', 'support vector regression', 'polynomial regression']\n",
    "multipleFeatures = df[['WEIGHT (gm)', 'STORAGE (gb)',  'BATTERY (mAh)']].to_numpy()"
   ]
  },
  {
   "cell_type": "code",
   "execution_count": 53,
   "id": "0217b705",
   "metadata": {},
   "outputs": [
    {
     "name": "stdout",
     "output_type": "stream",
     "text": [
      "linear regression\n",
      "R2 = 0.7843487773844471\n",
      "SSE = 929.8161881773924\n",
      "MAPE = 0.09737703297942069\n",
      "decision tree\n",
      "R2 = 0.8265172013915733\n",
      "SSE = 748.0\n",
      "MAPE = 0.10516819693047168\n",
      "random forest\n",
      "R2 = 0.7636805268393247\n",
      "SSE = 1018.9307951111114\n",
      "MAPE = 0.11688193170759725\n",
      "support vector regression\n",
      "R2 = 0.7910558669894937\n",
      "SSE = 900.8974534969665\n",
      "MAPE = 0.08695442306969002\n",
      "polynomial regression\n",
      "R2 = 0.8404470905515723\n",
      "SSE = 687.9389612384709\n",
      "MAPE = 0.08509967009149548\n"
     ]
    }
   ],
   "source": [
    "for model in modelsList:\n",
    "    modelScore(multipleFeatures, emissions, model)"
   ]
  },
  {
   "cell_type": "code",
   "execution_count": null,
   "id": "d6c396c0",
   "metadata": {},
   "outputs": [],
   "source": []
  }
 ],
 "metadata": {
  "kernelspec": {
   "display_name": "Python 3 (ipykernel)",
   "language": "python",
   "name": "python3"
  },
  "language_info": {
   "codemirror_mode": {
    "name": "ipython",
    "version": 3
   },
   "file_extension": ".py",
   "mimetype": "text/x-python",
   "name": "python",
   "nbconvert_exporter": "python",
   "pygments_lexer": "ipython3",
   "version": "3.11.5"
  }
 },
 "nbformat": 4,
 "nbformat_minor": 5
}
