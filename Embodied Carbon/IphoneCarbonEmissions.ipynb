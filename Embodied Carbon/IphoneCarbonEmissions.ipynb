{
 "cells": [
  {
   "cell_type": "code",
   "execution_count": 14,
   "id": "5b37cbd0-44c4-44b0-83c6-30efab178887",
   "metadata": {
    "tags": []
   },
   "outputs": [],
   "source": [
    "import pandas as pd\n",
    "import numpy as np\n",
    "\n",
    "from sklearn.model_selection import train_test_split\n",
    "from sklearn.model_selection import cross_val_score\n",
    "from sklearn.preprocessing import PolynomialFeatures\n",
    "\n",
    "from sklearn.ensemble import RandomForestRegressor\n",
    "from sklearn.linear_model import LinearRegression\n",
    "from sklearn import tree\n",
    "\n",
    "from sklearn.svm import SVR\n",
    "from sklearn.metrics import r2_score\n",
    "from sklearn.metrics import mean_absolute_percentage_error"
   ]
  },
  {
   "cell_type": "code",
   "execution_count": 21,
   "id": "5bfb479c-eaa6-4594-b2da-b7ab370688c5",
   "metadata": {
    "tags": []
   },
   "outputs": [],
   "source": [
    "df = pd.read_csv('IphoneData.csv')\n",
    "newdf = df.drop(columns=['NAME', 'CO2E'])\n",
    "features = newdf.to_numpy()\n",
    "emissions = df['CO2E'].to_numpy()"
   ]
  },
  {
   "cell_type": "code",
   "execution_count": 22,
   "id": "58c3538f-ce54-4aee-94f2-1662ee08c84d",
   "metadata": {
    "tags": []
   },
   "outputs": [],
   "source": [
    "def modelScore(X, y, model):\n",
    "    X_train, X_test, y_train, y_test = train_test_split(X, y, random_state=42, train_size = .75)\n",
    "    \n",
    "\n",
    "    if model == 'linear regression':\n",
    "        fittedModel = LinearRegression().fit(X_train, y_train)\n",
    "            \n",
    "    elif model == 'decision tree':\n",
    "        fittedModel = tree.DecisionTreeRegressor().fit(X_train, y_train)\n",
    "            \n",
    "    elif model == 'random forest':\n",
    "        y_train = y_train.flatten()\n",
    "        fittedModel = RandomForestRegressor().fit(X_train, y_train)\n",
    "\n",
    "    elif model == 'support vector regression':\n",
    "        y_train = y_train.flatten()\n",
    "        fittedModel = SVR(kernel = 'linear').fit(X_train, y_train)    \n",
    " \n",
    "    elif model == 'polynomial regression':\n",
    "        polyX = PolynomialFeatures(degree=2).fit_transform(X)\n",
    "        polyX_train, polyX_test, polyy_train, polyy_test = train_test_split(polyX, y, random_state=42, train_size=.75)\n",
    "        fittedModel = LinearRegression().fit(polyX_train, polyy_train)\n",
    "        X_test = polyX_test\n",
    "\n",
    "    y_pred = fittedModel.predict(X_test)\n",
    "    \n",
    "    r2 = r2_score(y_test, y_pred)    \n",
    "    sse = np.sum((y_test - y_pred) ** 2)\n",
    "    mape = mean_absolute_percentage_error(y_test, y_pred)\n",
    "    \n",
    "   #print results\n",
    "    print(model)\n",
    "    print(\"R2 = \" + str(r2))\n",
    "    print(\"SSE = \" + str(sse))\n",
    "    print(\"MAPE = \" + str(mape))"
   ]
  },
  {
   "cell_type": "code",
   "execution_count": 30,
   "id": "9da4e3f3-4503-488d-ae18-ea6dd7ffa012",
   "metadata": {
    "tags": []
   },
   "outputs": [
    {
     "name": "stdout",
     "output_type": "stream",
     "text": [
      "linear regression\n",
      "R2 = 0.9682603940497357\n",
      "SSE = 136.8506009888892\n",
      "MAPE = 0.04293170663755083\n"
     ]
    }
   ],
   "source": [
    "modelScore(features, emissions, 'linear regression')"
   ]
  },
  {
   "cell_type": "code",
   "execution_count": 24,
   "id": "dea144cd-d89f-4a68-bb65-58903aabb0c3",
   "metadata": {
    "tags": []
   },
   "outputs": [
    {
     "name": "stdout",
     "output_type": "stream",
     "text": [
      "decision tree\n",
      "R2 = 0.854116737533823\n",
      "SSE = 629.0\n",
      "MAPE = 0.09747656542554901\n"
     ]
    }
   ],
   "source": [
    "modelScore(features, emissions, 'decision tree')"
   ]
  },
  {
   "cell_type": "code",
   "execution_count": 25,
   "id": "e06cf85c-39d6-4ab8-8adb-41964e647dfa",
   "metadata": {
    "tags": []
   },
   "outputs": [
    {
     "name": "stdout",
     "output_type": "stream",
     "text": [
      "random forest\n",
      "R2 = 0.7728763200618477\n",
      "SSE = 979.2816000000001\n",
      "MAPE = 0.11495638546157438\n"
     ]
    }
   ],
   "source": [
    "modelScore(features, emissions, 'random forest')"
   ]
  },
  {
   "cell_type": "code",
   "execution_count": 26,
   "id": "bfa89dc1-b49b-4a6b-aeae-2fb747ad2747",
   "metadata": {
    "tags": []
   },
   "outputs": [
    {
     "name": "stdout",
     "output_type": "stream",
     "text": [
      "support vector regression\n",
      "R2 = 0.9769350516333538\n",
      "SSE = 99.4483690408563\n",
      "MAPE = 0.025507395370475017\n"
     ]
    }
   ],
   "source": [
    "modelScore(features, emissions, 'support vector regression')"
   ]
  },
  {
   "cell_type": "code",
   "execution_count": 27,
   "id": "fdfdefef-95c2-438a-b1a0-8487f80f1ff6",
   "metadata": {},
   "outputs": [
    {
     "name": "stdout",
     "output_type": "stream",
     "text": [
      "polynomial regression\n",
      "R2 = 0.9506411798055517\n",
      "SSE = 212.8187797383959\n",
      "MAPE = 0.050550119569909124\n"
     ]
    }
   ],
   "source": [
    "modelScore(features, emissions, 'polynomial regression')"
   ]
  },
  {
   "cell_type": "code",
   "execution_count": 28,
   "id": "0eff29e5",
   "metadata": {},
   "outputs": [],
   "source": [
    "modelsList = ['linear regression', 'decision tree', 'random forest', 'support vector regression', 'polynomial regression']\n",
    "multipleFeatures = df[[ 'STORAGE (gb)',  'BATTERY (mAh)']].to_numpy()"
   ]
  },
  {
   "cell_type": "code",
   "execution_count": 29,
   "id": "0217b705",
   "metadata": {},
   "outputs": [
    {
     "name": "stdout",
     "output_type": "stream",
     "text": [
      "linear regression\n",
      "R2 = 0.6843880149908889\n",
      "SSE = 1360.8136753642843\n",
      "MAPE = 0.13006742811128877\n",
      "decision tree\n",
      "R2 = 0.7801314263625821\n",
      "SSE = 948.0\n",
      "MAPE = 0.10517705825709024\n",
      "random forest\n",
      "R2 = 0.7827949193080788\n",
      "SSE = 936.5159062500003\n",
      "MAPE = 0.1136679269917321\n",
      "support vector regression\n",
      "R2 = 0.6753960541944355\n",
      "SSE = 1399.584012998326\n",
      "MAPE = 0.12660648111291717\n",
      "polynomial regression\n",
      "R2 = 0.7092527891809036\n",
      "SSE = 1253.605057315004\n",
      "MAPE = 0.12984773201013636\n"
     ]
    }
   ],
   "source": [
    "for model in modelsList:\n",
    "    modelScore(multipleFeatures, emissions, model)"
   ]
  },
  {
   "cell_type": "code",
   "execution_count": null,
   "id": "d6c396c0",
   "metadata": {},
   "outputs": [],
   "source": []
  }
 ],
 "metadata": {
  "kernelspec": {
   "display_name": "Python 3 (ipykernel)",
   "language": "python",
   "name": "python3"
  },
  "language_info": {
   "codemirror_mode": {
    "name": "ipython",
    "version": 3
   },
   "file_extension": ".py",
   "mimetype": "text/x-python",
   "name": "python",
   "nbconvert_exporter": "python",
   "pygments_lexer": "ipython3",
   "version": "3.11.5"
  }
 },
 "nbformat": 4,
 "nbformat_minor": 5
}
