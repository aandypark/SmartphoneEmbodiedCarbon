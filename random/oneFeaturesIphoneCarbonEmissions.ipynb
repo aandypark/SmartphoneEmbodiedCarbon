{
 "cells": [
  {
   "cell_type": "code",
   "execution_count": 2,
   "id": "ec940520-6865-4048-9974-0e6ed49ba6fb",
   "metadata": {
    "tags": []
   },
   "outputs": [],
   "source": [
    "import pandas as pd\n",
    "import numpy as np\n",
    "\n",
    "from sklearn.model_selection import cross_val_score, KFold, train_test_split\n",
    "from sklearn.preprocessing import PolynomialFeatures\n",
    "\n",
    "from sklearn.ensemble import RandomForestRegressor\n",
    "from sklearn.linear_model import LinearRegression\n",
    "from sklearn import tree\n",
    "from sklearn.svm import SVR\n",
    "import xgboost as xgb\n",
    "from sklearn.linear_model import Lasso\n",
    "\n",
    "from sklearn.metrics import r2_score\n",
    "from sklearn.metrics import mean_absolute_percentage_error"
   ]
  },
  {
   "cell_type": "code",
   "execution_count": 3,
   "id": "0b6ce06c-71c5-45e4-b0c8-eeb5dbd72636",
   "metadata": {
    "tags": []
   },
   "outputs": [],
   "source": [
    "df = pd.read_csv('IphoneData.csv')\n",
    "display = df['DISPLAY (inch)'].to_numpy().reshape(-1, 1)\n",
    "storage = df['STORAGE (gb)'].to_numpy().reshape(-1, 1)\n",
    "memory = df['MEMORY (gb)'].to_numpy().reshape(-1, 1)\n",
    "cpu = df['CPU (cores)'].to_numpy().reshape(-1, 1)\n",
    "gpu = df['GPU (cores)'].to_numpy().reshape(-1, 1)\n",
    "neuralEngine = df['NEURAL ENGINE (cores)'].to_numpy().reshape(-1, 1)\n",
    "weight = df['WEIGHT (gm)'].to_numpy().reshape(-1, 1)\n",
    "frontCamera = df['FRONT CAMERA (mp)'].to_numpy().reshape(-1, 1)\n",
    "battery = df['BATTERY (mAh)'].to_numpy().reshape(-1, 1)\n",
    "numCameras = df['number of camera (back)'].to_numpy().reshape(-1, 1)\n",
    "megapixels = df['Sum of megapixels'].to_numpy().reshape(-1, 1)\n",
    "mainCamera = df['MAIN CAMERA (mp)'].to_numpy().reshape(-1, 1)\n",
    "newdf = df.drop(columns=['NAME', 'CO2E'])\n",
    "features = newdf.to_numpy()\n",
    "emissions = df['CO2E'].to_numpy()"
   ]
  },
  {
   "cell_type": "code",
   "execution_count": 54,
   "id": "f83b2593-3a11-4316-a062-c2591599e926",
   "metadata": {
    "tags": []
   },
   "outputs": [],
   "source": [
    "def modelScore(X, y, model):\n",
    "    avgR2 = avgSSE = avgMAPE = 0\n",
    "    #cross validation using K folds\n",
    "    kFolds = 5\n",
    "    for i, (trainIndex, testIndex) in enumerate(KFold(n_splits=kFolds, shuffle=True, random_state=42).split(X)):\n",
    "        X_train = X[trainIndex]\n",
    "        X_test = X[testIndex]\n",
    "        y_train = y[trainIndex]\n",
    "        y_test = y[testIndex]\n",
    "    \n",
    "\n",
    "        if model == 'linear regression':\n",
    "            fittedModel = LinearRegression().fit(X_train, y_train)\n",
    "                \n",
    "        elif model == 'decision tree':\n",
    "            fittedModel = tree.DecisionTreeRegressor().fit(X_train, y_train)\n",
    "                \n",
    "        elif model == 'random forest':\n",
    "            y_train = y_train.flatten()\n",
    "            fittedModel = RandomForestRegressor().fit(X_train, y_train)\n",
    "\n",
    "        elif model == 'support vector regression':\n",
    "            y_train = y_train.flatten()\n",
    "            fittedModel = SVR(kernel = 'linear').fit(X_train, y_train)    \n",
    "    \n",
    "        elif model == 'polynomial regression':\n",
    "            polyX = PolynomialFeatures(degree=2).fit_transform(X)\n",
    "            fittedModel = LinearRegression().fit(polyX[trainIndex], y_train)\n",
    "            X_test = polyX[testIndex]\n",
    "\n",
    "        elif model == 'xgboost':\n",
    "            fittedModel = xgb.XGBRFRegressor(objective ='reg:linear', n_estimators = 10, seed = 123).fit(X_train, y_train)\n",
    "        \n",
    "        elif model =='lasso':\n",
    "            fittedModel = Lasso().fit(X_train, y_train)\n",
    "            \n",
    "\n",
    "        y_pred = fittedModel.predict(X_test)\n",
    "        \n",
    "        #scores\n",
    "        avgR2 += r2_score(y_test, y_pred)    \n",
    "        avgSSE += np.sum((y_test - y_pred) ** 2)\n",
    "        avgMAPE += mean_absolute_percentage_error(y_test, y_pred)\n",
    "\n",
    "    \n",
    "    avgR2, avgSSE, avgMAPE = avgR2 / kFolds, avgSSE / kFolds, avgMAPE / kFolds\n",
    "   #print results\n",
    "    \"\"\"print(model)\n",
    "    print(\"R2 = \" + str(avgR2))\n",
    "    print(\"SSE = \" + str(avgSSE))\n",
    "    print(\"MAPE = \" + str(avgMAPE))\"\"\"\n",
    "\n",
    "    print((avgR2))\n",
    "    print((avgSSE))\n",
    "    print((avgMAPE))"
   ]
  },
  {
   "cell_type": "code",
   "execution_count": 57,
   "id": "021c6d43-893d-448c-af63-610275039a18",
   "metadata": {
    "tags": []
   },
   "outputs": [],
   "source": [
    "modelsList = ['linear regression', 'decision tree', 'random forest', 'support vector regression', 'polynomial regression', 'xgboost', 'lasso']\n"
   ]
  },
  {
   "cell_type": "code",
   "execution_count": 60,
   "id": "f6bcd01b-e907-4764-a1e6-ef65f7bb4831",
   "metadata": {
    "tags": []
   },
   "outputs": [
    {
     "name": "stdout",
     "output_type": "stream",
     "text": [
      "0.15589470797548524\n",
      "2094.038080922909\n",
      "0.15360560549266966\n",
      "None\n",
      "0.05843016638822514\n",
      "2266.046979501335\n",
      "0.16051508703483333\n",
      "None\n",
      "0.08026640056389185\n",
      "2240.2129268079325\n",
      "0.15956600965497705\n",
      "None\n",
      "0.015396372660609604\n",
      "2445.969054213753\n",
      "0.15137075102256967\n",
      "None\n",
      "0.1554786194445508\n",
      "2135.6302732177437\n",
      "0.15758999966292087\n",
      "None\n",
      "0.1312418457085313\n",
      "2088.2762252153507\n",
      "0.15119684022488897\n",
      "None\n",
      "0.1525236352233146\n",
      "2117.496135548886\n",
      "0.1549017491345198\n",
      "None\n"
     ]
    },
    {
     "name": "stderr",
     "output_type": "stream",
     "text": [
      "C:\\Users\\emdua\\AppData\\Local\\Packages\\PythonSoftwareFoundation.Python.3.12_qbz5n2kfra8p0\\LocalCache\\local-packages\\Python312\\site-packages\\xgboost\\core.py:160: UserWarning: [21:38:23] WARNING: C:\\buildkite-agent\\builds\\buildkite-windows-cpu-autoscaling-group-i-0b3782d1791676daf-1\\xgboost\\xgboost-ci-windows\\src\\objective\\regression_obj.cu:209: reg:linear is now deprecated in favor of reg:squarederror.\n",
      "  warnings.warn(smsg, UserWarning)\n",
      "C:\\Users\\emdua\\AppData\\Local\\Packages\\PythonSoftwareFoundation.Python.3.12_qbz5n2kfra8p0\\LocalCache\\local-packages\\Python312\\site-packages\\xgboost\\core.py:160: UserWarning: [21:38:23] WARNING: C:\\buildkite-agent\\builds\\buildkite-windows-cpu-autoscaling-group-i-0b3782d1791676daf-1\\xgboost\\xgboost-ci-windows\\src\\objective\\regression_obj.cu:209: reg:linear is now deprecated in favor of reg:squarederror.\n",
      "  warnings.warn(smsg, UserWarning)\n",
      "C:\\Users\\emdua\\AppData\\Local\\Packages\\PythonSoftwareFoundation.Python.3.12_qbz5n2kfra8p0\\LocalCache\\local-packages\\Python312\\site-packages\\xgboost\\core.py:160: UserWarning: [21:38:23] WARNING: C:\\buildkite-agent\\builds\\buildkite-windows-cpu-autoscaling-group-i-0b3782d1791676daf-1\\xgboost\\xgboost-ci-windows\\src\\objective\\regression_obj.cu:209: reg:linear is now deprecated in favor of reg:squarederror.\n",
      "  warnings.warn(smsg, UserWarning)\n",
      "C:\\Users\\emdua\\AppData\\Local\\Packages\\PythonSoftwareFoundation.Python.3.12_qbz5n2kfra8p0\\LocalCache\\local-packages\\Python312\\site-packages\\xgboost\\core.py:160: UserWarning: [21:38:23] WARNING: C:\\buildkite-agent\\builds\\buildkite-windows-cpu-autoscaling-group-i-0b3782d1791676daf-1\\xgboost\\xgboost-ci-windows\\src\\objective\\regression_obj.cu:209: reg:linear is now deprecated in favor of reg:squarederror.\n",
      "  warnings.warn(smsg, UserWarning)\n",
      "C:\\Users\\emdua\\AppData\\Local\\Packages\\PythonSoftwareFoundation.Python.3.12_qbz5n2kfra8p0\\LocalCache\\local-packages\\Python312\\site-packages\\xgboost\\core.py:160: UserWarning: [21:38:23] WARNING: C:\\buildkite-agent\\builds\\buildkite-windows-cpu-autoscaling-group-i-0b3782d1791676daf-1\\xgboost\\xgboost-ci-windows\\src\\objective\\regression_obj.cu:209: reg:linear is now deprecated in favor of reg:squarederror.\n",
      "  warnings.warn(smsg, UserWarning)\n"
     ]
    }
   ],
   "source": [
    "#display\n",
    "for model in modelsList:\n",
    "    print(modelScore(display, emissions, model))"
   ]
  },
  {
   "cell_type": "code",
   "execution_count": 47,
   "id": "b118c5d9-5e7e-43d6-bbc8-f32abbed5b3b",
   "metadata": {
    "tags": []
   },
   "outputs": [
    {
     "name": "stdout",
     "output_type": "stream",
     "text": [
      "linear regression\n",
      "R2 = 0.6431018671108133\n",
      "SSE = 770.9140755021252\n",
      "MAPE = 0.0973274358732411\n",
      "None\n",
      "decision tree\n",
      "R2 = 0.5713544960090955\n",
      "SSE = 946.0476095992199\n",
      "MAPE = 0.10521336782807274\n",
      "None\n",
      "random forest\n",
      "R2 = 0.5694890394816211\n",
      "SSE = 955.5759104027936\n",
      "MAPE = 0.1065952900107651\n",
      "None\n",
      "support vector regression\n",
      "R2 = 0.6249976571543177\n",
      "SSE = 792.0741224468253\n",
      "MAPE = 0.09627068270048764\n",
      "None\n"
     ]
    }
   ],
   "source": [
    "#storage\n",
    "for model in modelsList:\n",
    "    print(modelScore(storage, emissions, model))"
   ]
  },
  {
   "cell_type": "code",
   "execution_count": 48,
   "id": "498ff2c1-b883-48de-955a-9d30efe6647d",
   "metadata": {},
   "outputs": [
    {
     "name": "stdout",
     "output_type": "stream",
     "text": [
      "linear regression\n",
      "R2 = 0.06993150539898914\n",
      "SSE = 2299.446182115787\n",
      "MAPE = 0.16274849541165504\n",
      "decision tree\n",
      "R2 = 0.01769628861973025\n",
      "SSE = 2452.7603573407832\n",
      "MAPE = 0.17341850035894196\n",
      "random forest\n",
      "R2 = 0.03737311181002338\n",
      "SSE = 2407.6131267491496\n",
      "MAPE = 0.16902444785464876\n",
      "support vector regression\n",
      "R2 = 0.015170986283357423\n",
      "SSE = 2405.0439999999994\n",
      "MAPE = 0.16341339210601147\n"
     ]
    }
   ],
   "source": [
    "#memory\n",
    "for model in modelsList:\n",
    "    modelScore(memory, emissions, model)"
   ]
  },
  {
   "cell_type": "code",
   "execution_count": 49,
   "id": "1d042f9e-6689-4834-8770-47932cb05c0b",
   "metadata": {
    "tags": []
   },
   "outputs": [
    {
     "name": "stdout",
     "output_type": "stream",
     "text": [
      "linear regression\n",
      "R2 = -0.061858614547081546\n",
      "SSE = 2586.8108147978164\n",
      "MAPE = 0.17237285700478913\n",
      "decision tree\n",
      "R2 = -0.061858614547081546\n",
      "SSE = 2586.8108147978164\n",
      "MAPE = 0.17237285700478913\n",
      "random forest\n",
      "R2 = -0.0671838871991282\n",
      "SSE = 2600.984295064499\n",
      "MAPE = 0.17394394534782265\n",
      "support vector regression\n",
      "R2 = -0.07618225374089085\n",
      "SSE = 2617.536\n",
      "MAPE = 0.1652835629374711\n"
     ]
    }
   ],
   "source": [
    "#cpu\n",
    "for model in modelsList:\n",
    "    (modelScore(cpu, emissions, model))"
   ]
  },
  {
   "cell_type": "code",
   "execution_count": 50,
   "id": "e99f27a5-3cd9-4c51-9dc9-070f0b89b217",
   "metadata": {
    "tags": []
   },
   "outputs": [
    {
     "name": "stdout",
     "output_type": "stream",
     "text": [
      "linear regression\n",
      "R2 = 0.05433537845387386\n",
      "SSE = 2322.8752374510905\n",
      "MAPE = 0.1632028213561844\n",
      "decision tree\n",
      "R2 = 0.010118312081191605\n",
      "SSE = 2446.617506260046\n",
      "MAPE = 0.170671498050579\n",
      "random forest\n",
      "R2 = 0.022570030594744696\n",
      "SSE = 2403.154452137812\n",
      "MAPE = 0.16867567189191116\n",
      "support vector regression\n",
      "R2 = -0.01638589413256808\n",
      "SSE = 2483.488\n",
      "MAPE = 0.1604225217270992\n"
     ]
    }
   ],
   "source": [
    "#gpu\n",
    "for model in modelsList:\n",
    "    (modelScore(gpu, emissions, model))"
   ]
  },
  {
   "cell_type": "code",
   "execution_count": 51,
   "id": "d0625612-e88c-4030-92e8-8bd0e089540f",
   "metadata": {
    "tags": []
   },
   "outputs": [
    {
     "name": "stdout",
     "output_type": "stream",
     "text": [
      "linear regression\n",
      "R2 = -0.06826250472796207\n",
      "SSE = 2602.102845324158\n",
      "MAPE = 0.17206672103453602\n",
      "decision tree\n",
      "R2 = -0.12598815165443383\n",
      "SSE = 2682.2246647220936\n",
      "MAPE = 0.17666078885527264\n",
      "random forest\n",
      "R2 = -0.12760171516541047\n",
      "SSE = 2675.8847722642945\n",
      "MAPE = 0.17553635188770422\n",
      "support vector regression\n",
      "R2 = -0.06465568608256511\n",
      "SSE = 2605.9598571427805\n",
      "MAPE = 0.16249886543586095\n"
     ]
    }
   ],
   "source": [
    "#neural engine\n",
    "for model in modelsList:\n",
    "    (modelScore(neuralEngine, emissions, model))"
   ]
  },
  {
   "cell_type": "code",
   "execution_count": 52,
   "id": "7dcea2e4-f5c8-40cf-af0c-381779511a6e",
   "metadata": {
    "tags": []
   },
   "outputs": [
    {
     "name": "stdout",
     "output_type": "stream",
     "text": [
      "linear regression\n",
      "R2 = 0.17725347590613208\n",
      "SSE = 1880.6279016376764\n",
      "MAPE = 0.1447997974512276\n",
      "decision tree\n",
      "R2 = -0.12430209591888633\n",
      "SSE = 2554.4555555555553\n",
      "MAPE = 0.17447144713641027\n",
      "random forest\n",
      "R2 = -0.03217829999619552\n",
      "SSE = 2360.2619843642015\n",
      "MAPE = 0.16700170596912678\n",
      "support vector regression\n",
      "R2 = 0.12388424206471949\n",
      "SSE = 2064.640642355173\n",
      "MAPE = 0.1401791543442429\n"
     ]
    }
   ],
   "source": [
    "#weight\n",
    "for model in modelsList:\n",
    "    (modelScore(weight, emissions, model))"
   ]
  },
  {
   "cell_type": "code",
   "execution_count": 53,
   "id": "58f156d0-6dfd-45c1-ba71-757a1ac6051e",
   "metadata": {
    "tags": []
   },
   "outputs": [
    {
     "ename": "NameError",
     "evalue": "name 'camera' is not defined",
     "output_type": "error",
     "traceback": [
      "\u001b[1;31m---------------------------------------------------------------------------\u001b[0m",
      "\u001b[1;31mNameError\u001b[0m                                 Traceback (most recent call last)",
      "Cell \u001b[1;32mIn[53], line 3\u001b[0m\n\u001b[0;32m      1\u001b[0m \u001b[38;5;66;03m#camera\u001b[39;00m\n\u001b[0;32m      2\u001b[0m \u001b[38;5;28;01mfor\u001b[39;00m model \u001b[38;5;129;01min\u001b[39;00m modelsList:\n\u001b[1;32m----> 3\u001b[0m     (modelScore(\u001b[43mcamera\u001b[49m, emissions, model))\n",
      "\u001b[1;31mNameError\u001b[0m: name 'camera' is not defined"
     ]
    }
   ],
   "source": [
    "#camera\n",
    "for model in modelsList:\n",
    "    (modelScore(camera, emissions, model))"
   ]
  },
  {
   "cell_type": "code",
   "execution_count": null,
   "id": "a5957262-daf2-4bf1-b945-147d2cc7bc69",
   "metadata": {
    "tags": []
   },
   "outputs": [
    {
     "name": "stdout",
     "output_type": "stream",
     "text": [
      "0.0700727998724161\n",
      "57132.8307379457\n",
      "0.1880184705512142\n"
     ]
    }
   ],
   "source": [
    "#battery\n",
    "for model in modelsList:\n",
    "    (modelScore(battery, emissions, model))"
   ]
  },
  {
   "cell_type": "code",
   "execution_count": null,
   "id": "38766e15-e862-42f3-ba41-fb0fc4ea6b0f",
   "metadata": {},
   "outputs": [],
   "source": [
    "for model in modelsList:\n",
    "    (modelScore(, emissions, model))"
   ]
  }
 ],
 "metadata": {
  "kernelspec": {
   "display_name": "Python 3 (ipykernel)",
   "language": "python",
   "name": "python3"
  },
  "language_info": {
   "codemirror_mode": {
    "name": "ipython",
    "version": 3
   },
   "file_extension": ".py",
   "mimetype": "text/x-python",
   "name": "python",
   "nbconvert_exporter": "python",
   "pygments_lexer": "ipython3",
   "version": "3.12.1"
  }
 },
 "nbformat": 4,
 "nbformat_minor": 5
}
