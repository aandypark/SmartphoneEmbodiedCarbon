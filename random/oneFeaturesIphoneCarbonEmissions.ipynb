{
 "cells": [
  {
   "cell_type": "code",
   "execution_count": 17,
   "id": "ec940520-6865-4048-9974-0e6ed49ba6fb",
   "metadata": {
    "tags": []
   },
   "outputs": [],
   "source": [
    "import pandas as pd\n",
    "import numpy as np\n",
    "\n",
    "from sklearn.model_selection import cross_val_score, KFold, train_test_split, LeaveOneOut\n",
    "from sklearn.preprocessing import PolynomialFeatures\n",
    "\n",
    "from sklearn.ensemble import RandomForestRegressor\n",
    "from sklearn.linear_model import LinearRegression\n",
    "from sklearn import tree\n",
    "from sklearn.svm import SVR\n",
    "import xgboost as xgb\n",
    "from sklearn.linear_model import Lasso\n",
    "\n",
    "from sklearn.metrics import r2_score\n",
    "from sklearn.metrics import mean_absolute_percentage_error"
   ]
  },
  {
   "cell_type": "code",
   "execution_count": 18,
   "id": "0b6ce06c-71c5-45e4-b0c8-eeb5dbd72636",
   "metadata": {
    "tags": []
   },
   "outputs": [],
   "source": [
    "df = pd.read_csv('IphoneData.csv')\n",
    "display = df['DISPLAY (inch)'].to_numpy().reshape(-1, 1)\n",
    "storage = df['STORAGE (gb)'].to_numpy().reshape(-1, 1)\n",
    "memory = df['MEMORY (gb)'].to_numpy().reshape(-1, 1)\n",
    "cpu = df['CPU (cores)'].to_numpy().reshape(-1, 1)\n",
    "gpu = df['GPU (cores)'].to_numpy().reshape(-1, 1)\n",
    "neuralEngine = df['NEURAL ENGINE (cores)'].to_numpy().reshape(-1, 1)\n",
    "weight = df['WEIGHT (gm)'].to_numpy().reshape(-1, 1)\n",
    "frontCamera = df['FRONT CAMERA (mp)'].to_numpy().reshape(-1, 1)\n",
    "battery = df['BATTERY (mAh)'].to_numpy().reshape(-1, 1)\n",
    "numCameras = df['number of camera (back)'].to_numpy().reshape(-1, 1)\n",
    "megapixels = df['Sum of megapixels'].to_numpy().reshape(-1, 1)\n",
    "mainCamera = df['MAIN CAMERA (mp)'].to_numpy().reshape(-1, 1)\n",
    "newdf = df.drop(columns=['NAME', 'CO2E'])\n",
    "features = newdf.to_numpy()\n",
    "emissions = df['CO2E'].to_numpy()"
   ]
  },
  {
   "cell_type": "code",
   "execution_count": 26,
   "id": "f83b2593-3a11-4316-a062-c2591599e926",
   "metadata": {
    "tags": []
   },
   "outputs": [],
   "source": [
    "def modelScore(X, y, model):\n",
    "    avgSSE = []\n",
    "    avgMAPE = []\n",
    "    splits = LeaveOneOut().get_n_splits(X)\n",
    "    #cross validation using leave one out\n",
    "    for i, (trainIndex, testIndex) in enumerate(LeaveOneOut().split(X)):\n",
    "        X_train = X[trainIndex]\n",
    "        X_test = X[testIndex]\n",
    "        y_train = y[trainIndex]\n",
    "        y_test = y[testIndex]\n",
    "    \n",
    "\n",
    "        if model == 'linear regression':\n",
    "            fittedModel = LinearRegression().fit(X_train, y_train)\n",
    "                \n",
    "        elif model == 'decision tree':\n",
    "            fittedModel = tree.DecisionTreeRegressor().fit(X_train, y_train)\n",
    "                \n",
    "        elif model == 'random forest':\n",
    "            y_train = y_train.flatten()\n",
    "            RF = RandomForestRegressor()#ccp_alpha=2.6, max_samples=.9, max_features='log2', min_samples_split=2,\n",
    "                      #n_estimators=50, max_depth=17, min_samples_leaf=1, criterion='squared_error')\n",
    "            fittedModel = RF.fit(X_train, y_train)\n",
    "            \n",
    "        elif model == 'support vector regression':\n",
    "            y_train = y_train.flatten()\n",
    "            fittedModel = SVR(kernel = 'linear').fit(X_train, y_train)\n",
    "    \n",
    "        elif model == 'polynomial regression':\n",
    "            polyX_train = PolynomialFeatures(degree=2).fit_transform(X_train)\n",
    "            polyX_test = PolynomialFeatures(degree=2).fit_transform(X_test)\n",
    "            fittedModel = LinearRegression().fit(polyX_train, y_train)\n",
    "            X_test = polyX_test\n",
    "\n",
    "        elif model == 'xgboost':\n",
    "            xgbModel = xgb.XGBRegressor()#learning_rate=0.225, n_estimators=225, booster='gblinear',\n",
    "                                        #reg_alpha=0, reg_lambda=0, eval_metric='auc', \n",
    "                                        #objective='reg:squaredlogerror')\n",
    "            fittedModel = xgbModel.fit(X_train, y_train)\n",
    "        \n",
    "        elif model =='lasso':\n",
    "            fittedModel = Lasso().fit(X_train, y_train)\n",
    "            \n",
    "\n",
    "        y_pred = fittedModel.predict(X_test)\n",
    "        \n",
    "        #scores\n",
    "        avgSSE.append(np.sum((y_test - y_pred) ** 2))\n",
    "        avgMAPE.append(mean_absolute_percentage_error(y_test, y_pred))\n",
    "\n",
    "    avgSSE, avgMAPE = np.mean(avgSSE), np.mean(avgMAPE)\n",
    "\n",
    "    \"\"\"#print results\n",
    "    print(\"SSE = \" + str(avgSSE))\n",
    "    print(\"MAPE = \" + str(avgMAPE))\n",
    "    print(r2_score([1], [2]))\n",
    "    print results\n",
    "    print(model)\n",
    "    print(\"R2 = \" + str(avgR2))\n",
    "    print(\"SSE = \" + str(avgSSE))\n",
    "    print(\"MAPE = \" + str(avgMAPE))\"\"\"\n",
    "    print()\n",
    "    print((avgSSE))\n",
    "    print((avgMAPE))"
   ]
  },
  {
   "cell_type": "code",
   "execution_count": 23,
   "id": "021c6d43-893d-448c-af63-610275039a18",
   "metadata": {
    "tags": []
   },
   "outputs": [],
   "source": [
    "modelsList = ['linear regression', 'decision tree', 'random forest', 'support vector regression', 'polynomial regression', 'xgboost', 'lasso']\n"
   ]
  },
  {
   "cell_type": "code",
   "execution_count": 27,
   "id": "f6bcd01b-e907-4764-a1e6-ef65f7bb4831",
   "metadata": {
    "tags": []
   },
   "outputs": [
    {
     "name": "stdout",
     "output_type": "stream",
     "text": [
      "\n",
      "224.8655165085136\n",
      "0.15501671316538138\n",
      "\n",
      "236.59947945318822\n",
      "0.15739054126823263\n",
      "\n",
      "234.19227689239224\n",
      "0.1566796730337723\n",
      "\n",
      "257.5384205151984\n",
      "0.1488394869956919\n",
      "\n",
      "230.55200930510696\n",
      "0.15570511420987973\n",
      "\n",
      "212.10525814013485\n",
      "0.14626280768857272\n",
      "\n",
      "227.85898266061517\n",
      "0.15754609280960108\n"
     ]
    }
   ],
   "source": [
    "#display\n",
    "for model in modelsList:\n",
    "    (modelScore(display, emissions, model))"
   ]
  },
  {
   "cell_type": "code",
   "execution_count": 30,
   "id": "b118c5d9-5e7e-43d6-bbc8-f32abbed5b3b",
   "metadata": {
    "tags": []
   },
   "outputs": [
    {
     "name": "stdout",
     "output_type": "stream",
     "text": [
      "\n",
      "83.50845209271095\n",
      "0.0999480329887582\n",
      "\n",
      "95.11931722082734\n",
      "0.10618211537559613\n",
      "\n",
      "96.3342984590608\n",
      "0.10775380283236802\n",
      "\n",
      "82.50034332152921\n",
      "0.09799335128152331\n",
      "\n",
      "85.72893046389952\n",
      "0.10106046277785673\n",
      "\n",
      "95.11868740357477\n",
      "0.10618177721160053\n",
      "\n",
      "83.50716293524184\n",
      "0.09994847174638137\n"
     ]
    }
   ],
   "source": [
    "#storage\n",
    "for model in modelsList:\n",
    "    (modelScore(storage, emissions, model))"
   ]
  },
  {
   "cell_type": "code",
   "execution_count": 31,
   "id": "498ff2c1-b883-48de-955a-9d30efe6647d",
   "metadata": {},
   "outputs": [
    {
     "name": "stdout",
     "output_type": "stream",
     "text": [
      "\n",
      "254.86304062455747\n",
      "0.16822449360198935\n",
      "\n",
      "279.11171462339047\n",
      "0.17862022407867273\n",
      "\n",
      "275.00248461608146\n",
      "0.17513578630272267\n",
      "\n",
      "275.2860416666667\n",
      "0.17192492846037233\n",
      "\n",
      "264.54028072124066\n",
      "0.1719295428505713\n",
      "\n",
      "279.1103666373692\n",
      "0.17861942294724545\n",
      "\n",
      "255.38383498120962\n",
      "0.16788413306084574\n"
     ]
    }
   ],
   "source": [
    "#memory\n",
    "for model in modelsList:\n",
    "    modelScore(memory, emissions, model)"
   ]
  },
  {
   "cell_type": "code",
   "execution_count": 32,
   "id": "1d042f9e-6689-4834-8770-47932cb05c0b",
   "metadata": {
    "tags": []
   },
   "outputs": [
    {
     "name": "stdout",
     "output_type": "stream",
     "text": [
      "\n",
      "274.129470348574\n",
      "0.17245779338661205\n",
      "\n",
      "274.129470348574\n",
      "0.17245779338661205\n",
      "\n",
      "274.3688265268975\n",
      "0.17251491208457956\n",
      "\n",
      "280.5466666666668\n",
      "0.16649211095248392\n",
      "\n",
      "274.129470348574\n",
      "0.17245779338661205\n",
      "\n",
      "274.1294791747071\n",
      "0.17245779713522813\n",
      "\n",
      "274.129470348574\n",
      "0.17245779338661205\n"
     ]
    }
   ],
   "source": [
    "#cpu\n",
    "for model in modelsList:\n",
    "    (modelScore(cpu, emissions, model))"
   ]
  },
  {
   "cell_type": "code",
   "execution_count": 33,
   "id": "e99f27a5-3cd9-4c51-9dc9-070f0b89b217",
   "metadata": {
    "tags": []
   },
   "outputs": [
    {
     "name": "stdout",
     "output_type": "stream",
     "text": [
      "\n",
      "258.09517808682523\n",
      "0.16906445417586793\n",
      "\n",
      "278.92567754098167\n",
      "0.17736056274351272\n",
      "\n",
      "276.61969927896746\n",
      "0.17573408469609078\n",
      "\n",
      "267.92666666666673\n",
      "0.16432622897835272\n",
      "\n",
      "267.6361901466014\n",
      "0.1728998865155175\n",
      "\n",
      "278.9258279681092\n",
      "0.1773606179323092\n",
      "\n",
      "260.145275200446\n",
      "0.16859260195284143\n"
     ]
    }
   ],
   "source": [
    "#gpu\n",
    "for model in modelsList:\n",
    "    (modelScore(gpu, emissions, model))"
   ]
  },
  {
   "cell_type": "code",
   "execution_count": 34,
   "id": "d0625612-e88c-4030-92e8-8bd0e089540f",
   "metadata": {
    "tags": []
   },
   "outputs": [
    {
     "name": "stdout",
     "output_type": "stream",
     "text": [
      "\n",
      "285.3929328578102\n",
      "0.17655364166586685\n",
      "\n",
      "284.4340117026749\n",
      "0.1780802477222687\n",
      "\n",
      "287.77482986898264\n",
      "0.17837951841522945\n",
      "\n",
      "276.8332249149718\n",
      "0.16613774974120313\n",
      "\n",
      "284.4340117026752\n",
      "0.17808024772226874\n",
      "\n",
      "284.4334075317723\n",
      "0.17808023047662466\n",
      "\n",
      "282.624681778821\n",
      "0.17543343531416947\n"
     ]
    }
   ],
   "source": [
    "#neural engine\n",
    "for model in modelsList:\n",
    "    (modelScore(neuralEngine, emissions, model))"
   ]
  },
  {
   "cell_type": "code",
   "execution_count": 35,
   "id": "7dcea2e4-f5c8-40cf-af0c-381779511a6e",
   "metadata": {
    "tags": []
   },
   "outputs": [
    {
     "name": "stdout",
     "output_type": "stream",
     "text": [
      "\n",
      "202.7095466066277\n",
      "0.14896365747459217\n",
      "\n",
      "252.55280671296296\n",
      "0.16886705063904614\n",
      "\n",
      "241.96173142806\n",
      "0.16513600978592008\n",
      "\n",
      "236.36824863622144\n",
      "0.15186237647988346\n",
      "\n",
      "205.24683573372238\n",
      "0.1498582253678992\n",
      "\n",
      "252.5479665410112\n",
      "0.1688656178030983\n",
      "\n",
      "202.7095474553898\n",
      "0.14901819775778394\n"
     ]
    }
   ],
   "source": [
    "#weight\n",
    "for model in modelsList:\n",
    "    (modelScore(weight, emissions, model))"
   ]
  },
  {
   "cell_type": "code",
   "execution_count": 39,
   "id": "cee133e6",
   "metadata": {},
   "outputs": [
    {
     "name": "stdout",
     "output_type": "stream",
     "text": [
      "\n",
      "285.4511245416135\n",
      "0.1759987431938411\n",
      "\n",
      "285.4511245416135\n",
      "0.17599874319384115\n",
      "\n",
      "285.012794711538\n",
      "0.17582290867003525\n",
      "\n",
      "282.2000000000016\n",
      "0.16736700422816508\n",
      "\n",
      "285.4511245416135\n",
      "0.1759987431938411\n",
      "\n",
      "285.44854159664465\n",
      "0.17599782602583236\n",
      "\n",
      "284.1334099603724\n",
      "0.1755161542110842\n"
     ]
    }
   ],
   "source": [
    "#camera\n",
    "for model in modelsList:\n",
    "    (modelScore(mainCamera, emissions, model))"
   ]
  },
  {
   "cell_type": "code",
   "execution_count": 40,
   "id": "0e901ec2",
   "metadata": {},
   "outputs": [
    {
     "name": "stdout",
     "output_type": "stream",
     "text": [
      "\n",
      "220.0787165622331\n",
      "0.15199491922811487\n",
      "\n",
      "220.078716562233\n",
      "0.15199491922811484\n",
      "\n",
      "220.3966749456421\n",
      "0.15215750316424434\n",
      "\n",
      "228.70999999999935\n",
      "0.14046497997001786\n",
      "\n",
      "220.0787165622331\n",
      "0.15199491922811484\n",
      "\n",
      "220.07873453478078\n",
      "0.15199511987467076\n",
      "\n",
      "220.42767191294658\n",
      "0.15251134086029708\n"
     ]
    }
   ],
   "source": [
    "#camera\n",
    "for model in modelsList:\n",
    "    (modelScore(frontCamera, emissions, model))"
   ]
  },
  {
   "cell_type": "code",
   "execution_count": 41,
   "id": "99269db7",
   "metadata": {},
   "outputs": [
    {
     "name": "stdout",
     "output_type": "stream",
     "text": [
      "\n",
      "177.6695241586945\n",
      "0.14217392418476232\n",
      "\n",
      "183.06569996419623\n",
      "0.14541405678283736\n",
      "\n",
      "182.99398751542506\n",
      "0.1461343152258416\n",
      "\n",
      "223.5645833333334\n",
      "0.15166571899770756\n",
      "\n",
      "183.06569996419617\n",
      "0.14541405678283736\n",
      "\n",
      "183.06571857864915\n",
      "0.14541423420019878\n",
      "\n",
      "179.72441154767412\n",
      "0.1435886567392891\n"
     ]
    }
   ],
   "source": [
    "#camera\n",
    "for model in modelsList:\n",
    "    (modelScore(numCameras, emissions, model))"
   ]
  },
  {
   "cell_type": "code",
   "execution_count": 36,
   "id": "58f156d0-6dfd-45c1-ba71-757a1ac6051e",
   "metadata": {
    "tags": []
   },
   "outputs": [
    {
     "name": "stdout",
     "output_type": "stream",
     "text": [
      "\n",
      "262.01795023438996\n",
      "0.16905732855802444\n",
      "\n",
      "188.20387885609125\n",
      "0.145916362972798\n",
      "\n",
      "187.29880881340728\n",
      "0.1465282312277447\n",
      "\n",
      "266.82048435944137\n",
      "0.16935788489606587\n",
      "\n",
      "228.14781706747638\n",
      "0.15484773990350062\n",
      "\n",
      "188.20368274574048\n",
      "0.1459170039556894\n",
      "\n",
      "262.0276674699176\n",
      "0.1690049408047631\n"
     ]
    }
   ],
   "source": [
    "#camera\n",
    "for model in modelsList:\n",
    "    (modelScore(megapixels, emissions, model))"
   ]
  },
  {
   "cell_type": "code",
   "execution_count": 42,
   "id": "a5957262-daf2-4bf1-b945-147d2cc7bc69",
   "metadata": {
    "tags": []
   },
   "outputs": [
    {
     "name": "stdout",
     "output_type": "stream",
     "text": [
      "\n",
      "237.64374703816353\n",
      "0.1621547169354084\n",
      "\n",
      "246.1401909722222\n",
      "0.16428590393711145\n",
      "\n",
      "234.35173294609285\n",
      "0.16366743751727394\n",
      "\n",
      "230.76559978478016\n",
      "0.14671728994522337\n",
      "\n",
      "235.90905909417816\n",
      "0.15885529700663722\n",
      "\n",
      "240.68666870228662\n",
      "0.16105945358735094\n",
      "\n",
      "237.6440041439488\n",
      "0.16215558642417108\n"
     ]
    }
   ],
   "source": [
    "#battery\n",
    "for model in modelsList:\n",
    "    (modelScore(battery, emissions, model))"
   ]
  }
 ],
 "metadata": {
  "kernelspec": {
   "display_name": "Python 3 (ipykernel)",
   "language": "python",
   "name": "python3"
  },
  "language_info": {
   "codemirror_mode": {
    "name": "ipython",
    "version": 3
   },
   "file_extension": ".py",
   "mimetype": "text/x-python",
   "name": "python",
   "nbconvert_exporter": "python",
   "pygments_lexer": "ipython3",
   "version": "3.12.2"
  }
 },
 "nbformat": 4,
 "nbformat_minor": 5
}
