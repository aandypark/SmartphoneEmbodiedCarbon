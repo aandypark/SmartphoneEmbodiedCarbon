{
 "cells": [
  {
   "cell_type": "code",
   "execution_count": 14,
   "id": "5b37cbd0-44c4-44b0-83c6-30efab178887",
   "metadata": {
    "tags": []
   },
   "outputs": [],
   "source": [
    "import pandas as pd\n",
    "import numpy as np\n",
    "\n",
    "from sklearn.model_selection import cross_val_score, KFold, train_test_split\n",
    "from sklearn.model_selection import LeaveOneOut\n",
    "from sklearn.preprocessing import PolynomialFeatures\n",
    "\n",
    "from sklearn.ensemble import RandomForestRegressor\n",
    "from sklearn.linear_model import LinearRegression\n",
    "from sklearn import tree\n",
    "from sklearn.svm import SVR\n",
    "import xgboost as xgb\n",
    "from sklearn.linear_model import Lasso\n",
    "\n",
    "from sklearn.metrics import r2_score\n",
    "from sklearn.metrics import mean_absolute_percentage_error"
   ]
  },
  {
   "cell_type": "code",
   "execution_count": 2,
   "id": "5bfb479c-eaa6-4594-b2da-b7ab370688c5",
   "metadata": {
    "tags": []
   },
   "outputs": [],
   "source": [
    "df = pd.read_csv('IphoneData.csv')\n",
    "newdf = df.drop(columns=['NAME', 'CO2E'])\n",
    "features = newdf.to_numpy()\n",
    "emissions = df['CO2E'].to_numpy()"
   ]
  },
  {
   "cell_type": "code",
   "execution_count": 3,
   "id": "58c3538f-ce54-4aee-94f2-1662ee08c84d",
   "metadata": {
    "tags": []
   },
   "outputs": [],
   "source": [
    "def modelScore(X, y, model):\n",
    "    avgR2 = avgSSE = avgMAPE = 0\n",
    "    #cross validation using K folds\n",
    "    kFolds = 5\n",
    "    for i, (trainIndex, testIndex) in enumerate(KFold(n_splits=kFolds, shuffle=True, random_state=42).split(X)):\n",
    "        X_train = X[trainIndex]\n",
    "        X_test = X[testIndex]\n",
    "        y_train = y[trainIndex]\n",
    "        y_test = y[testIndex]\n",
    "    \n",
    "\n",
    "        if model == 'linear regression':\n",
    "            fittedModel = LinearRegression().fit(X_train, y_train)\n",
    "                \n",
    "        elif model == 'decision tree':\n",
    "            fittedModel = tree.DecisionTreeRegressor().fit(X_train, y_train)\n",
    "                \n",
    "        elif model == 'random forest':\n",
    "            y_train = y_train.flatten()\n",
    "            fittedModel = RandomForestRegressor().fit(X_train, y_train)\n",
    "            \n",
    "        elif model == 'support vector regression':\n",
    "            y_train = y_train.flatten()\n",
    "            fittedModel = SVR(kernel = 'linear').fit(X_train, y_train)\n",
    "    \n",
    "        elif model == 'polynomial regression':\n",
    "            polyX_train = PolynomialFeatures(degree=2).fit_transform(X_train)\n",
    "            polyX_test = PolynomialFeatures(degree=2).fit_transform(X_test)\n",
    "            fittedModel = LinearRegression().fit(polyX_train, y_train)\n",
    "            X_test = polyX_test\n",
    "\n",
    "        elif model == 'xgboost':\n",
    "            fittedModel = xgb.XGBRFRegressor(objective ='reg:linear', n_estimators = 20, seed = 42).fit(X_train, y_train)\n",
    "        \n",
    "        elif model =='lasso':\n",
    "            fittedModel = Lasso().fit(X_train, y_train)\n",
    "            \n",
    "\n",
    "        y_pred = fittedModel.predict(X_test)\n",
    "        \n",
    "        #scores\n",
    "        avgR2 += r2_score(y_test, y_pred)    \n",
    "        avgSSE += np.sum((y_test - y_pred) ** 2)\n",
    "        avgMAPE += mean_absolute_percentage_error(y_test, y_pred)\n",
    "\n",
    "    avgR2, avgSSE, avgMAPE = avgR2 / kFolds, avgSSE / kFolds, avgMAPE / kFolds\n",
    "   #print results\n",
    "    print(model)\n",
    "    print(\"R2 = \" + str(avgR2))\n",
    "    print(\"SSE = \" + str(avgSSE))\n",
    "    print(\"MAPE = \" + str(avgMAPE))\n",
    "\n",
    "\n"
   ]
  },
  {
   "cell_type": "code",
   "execution_count": 15,
   "id": "9da4e3f3-4503-488d-ae18-ea6dd7ffa012",
   "metadata": {
    "tags": []
   },
   "outputs": [
    {
     "name": "stdout",
     "output_type": "stream",
     "text": [
      "linear regression\n",
      "R2 = 0.9132785915590607\n",
      "SSE = 172.6195696345183\n",
      "MAPE = 0.04614202622279183\n"
     ]
    }
   ],
   "source": [
    "modelScore(features, emissions, 'linear regression')"
   ]
  },
  {
   "cell_type": "code",
   "execution_count": 5,
   "id": "dea144cd-d89f-4a68-bb65-58903aabb0c3",
   "metadata": {
    "tags": []
   },
   "outputs": [
    {
     "name": "stdout",
     "output_type": "stream",
     "text": [
      "decision tree\n",
      "R2 = 0.7123571461657906\n",
      "SSE = 586.2\n",
      "MAPE = 0.08246248455578054\n"
     ]
    }
   ],
   "source": [
    "modelScore(features, emissions, 'decision tree')"
   ]
  },
  {
   "cell_type": "code",
   "execution_count": 6,
   "id": "e06cf85c-39d6-4ab8-8adb-41964e647dfa",
   "metadata": {
    "tags": []
   },
   "outputs": [
    {
     "name": "stdout",
     "output_type": "stream",
     "text": [
      "random forest\n",
      "R2 = 0.8355638771075871\n",
      "SSE = 406.66940000000005\n",
      "MAPE = 0.06679478614236586\n"
     ]
    }
   ],
   "source": [
    "modelScore(features, emissions, 'random forest')"
   ]
  },
  {
   "cell_type": "code",
   "execution_count": 7,
   "id": "bfa89dc1-b49b-4a6b-aeae-2fb747ad2747",
   "metadata": {
    "tags": []
   },
   "outputs": [
    {
     "name": "stdout",
     "output_type": "stream",
     "text": [
      "support vector regression\n",
      "R2 = 0.8783182219644387\n",
      "SSE = 231.72982845335702\n",
      "MAPE = 0.0474385532925264\n"
     ]
    }
   ],
   "source": [
    "modelScore(features, emissions, 'support vector regression')"
   ]
  },
  {
   "cell_type": "code",
   "execution_count": 8,
   "id": "fdfdefef-95c2-438a-b1a0-8487f80f1ff6",
   "metadata": {},
   "outputs": [
    {
     "name": "stdout",
     "output_type": "stream",
     "text": [
      "polynomial regression\n",
      "R2 = 0.5193065980378624\n",
      "SSE = 1344.874736766754\n",
      "MAPE = 0.07132996748624869\n"
     ]
    }
   ],
   "source": [
    "modelScore(features, emissions, 'polynomial regression')"
   ]
  },
  {
   "cell_type": "code",
   "execution_count": 9,
   "id": "d55ba734",
   "metadata": {},
   "outputs": [
    {
     "name": "stdout",
     "output_type": "stream",
     "text": [
      "xgboost\n",
      "R2 = 0.8043675644701505\n",
      "SSE = 424.87292831292143\n",
      "MAPE = 0.07209835789567827\n"
     ]
    },
    {
     "name": "stderr",
     "output_type": "stream",
     "text": [
      "C:\\Users\\emdua\\AppData\\Local\\Packages\\PythonSoftwareFoundation.Python.3.12_qbz5n2kfra8p0\\LocalCache\\local-packages\\Python312\\site-packages\\xgboost\\core.py:160: UserWarning: [10:25:07] WARNING: C:\\buildkite-agent\\builds\\buildkite-windows-cpu-autoscaling-group-i-0b3782d1791676daf-1\\xgboost\\xgboost-ci-windows\\src\\objective\\regression_obj.cu:209: reg:linear is now deprecated in favor of reg:squarederror.\n",
      "  warnings.warn(smsg, UserWarning)\n",
      "C:\\Users\\emdua\\AppData\\Local\\Packages\\PythonSoftwareFoundation.Python.3.12_qbz5n2kfra8p0\\LocalCache\\local-packages\\Python312\\site-packages\\xgboost\\core.py:160: UserWarning: [10:25:07] WARNING: C:\\buildkite-agent\\builds\\buildkite-windows-cpu-autoscaling-group-i-0b3782d1791676daf-1\\xgboost\\xgboost-ci-windows\\src\\objective\\regression_obj.cu:209: reg:linear is now deprecated in favor of reg:squarederror.\n",
      "  warnings.warn(smsg, UserWarning)\n",
      "C:\\Users\\emdua\\AppData\\Local\\Packages\\PythonSoftwareFoundation.Python.3.12_qbz5n2kfra8p0\\LocalCache\\local-packages\\Python312\\site-packages\\xgboost\\core.py:160: UserWarning: [10:25:07] WARNING: C:\\buildkite-agent\\builds\\buildkite-windows-cpu-autoscaling-group-i-0b3782d1791676daf-1\\xgboost\\xgboost-ci-windows\\src\\objective\\regression_obj.cu:209: reg:linear is now deprecated in favor of reg:squarederror.\n",
      "  warnings.warn(smsg, UserWarning)\n",
      "C:\\Users\\emdua\\AppData\\Local\\Packages\\PythonSoftwareFoundation.Python.3.12_qbz5n2kfra8p0\\LocalCache\\local-packages\\Python312\\site-packages\\xgboost\\core.py:160: UserWarning: [10:25:07] WARNING: C:\\buildkite-agent\\builds\\buildkite-windows-cpu-autoscaling-group-i-0b3782d1791676daf-1\\xgboost\\xgboost-ci-windows\\src\\objective\\regression_obj.cu:209: reg:linear is now deprecated in favor of reg:squarederror.\n",
      "  warnings.warn(smsg, UserWarning)\n",
      "C:\\Users\\emdua\\AppData\\Local\\Packages\\PythonSoftwareFoundation.Python.3.12_qbz5n2kfra8p0\\LocalCache\\local-packages\\Python312\\site-packages\\xgboost\\core.py:160: UserWarning: [10:25:07] WARNING: C:\\buildkite-agent\\builds\\buildkite-windows-cpu-autoscaling-group-i-0b3782d1791676daf-1\\xgboost\\xgboost-ci-windows\\src\\objective\\regression_obj.cu:209: reg:linear is now deprecated in favor of reg:squarederror.\n",
      "  warnings.warn(smsg, UserWarning)\n"
     ]
    }
   ],
   "source": [
    "modelScore(features, emissions, 'xgboost')"
   ]
  },
  {
   "cell_type": "code",
   "execution_count": 10,
   "id": "9819df35",
   "metadata": {},
   "outputs": [
    {
     "name": "stdout",
     "output_type": "stream",
     "text": [
      "lasso\n",
      "R2 = 0.8937950770555275\n",
      "SSE = 218.70764501772538\n",
      "MAPE = 0.04809102527020786\n"
     ]
    }
   ],
   "source": [
    "modelScore(features, emissions, 'lasso')"
   ]
  },
  {
   "cell_type": "code",
   "execution_count": 11,
   "id": "0eff29e5",
   "metadata": {},
   "outputs": [],
   "source": [
    "modelsList = ['linear regression', 'decision tree', 'random forest', 'support vector regression', 'polynomial regression', 'xgboost', 'lasso']\n",
    "multipleFeatures = df[[ 'STORAGE (gb)', 'WEIGHT (gm)']].to_numpy()\n",
    "featuresList = ['DISPLAY (inch)', 'STORAGE (gb)', 'MEMORY (gb)', 'CPU (cores)', 'GPU (cores)', 'NEURAL ENGINE (cores)', 'WEIGHT (gm)', 'FRONT CAMERA (mp)', 'BATTERY (mAh)', 'number of camera (back)', 'Sum of megapixels', 'MAIN CAMERA (mp)']"
   ]
  },
  {
   "cell_type": "code",
   "execution_count": 12,
   "id": "0217b705",
   "metadata": {},
   "outputs": [
    {
     "name": "stdout",
     "output_type": "stream",
     "text": [
      "linear regression\n",
      "R2 = 0.7189643439389602\n",
      "SSE = 616.1919821761769\n",
      "MAPE = 0.07737486607798909\n",
      "decision tree\n",
      "R2 = 0.6482988116424577\n",
      "SSE = 836.2\n",
      "MAPE = 0.08773436093350004\n",
      "random forest\n",
      "R2 = 0.7529583599434765\n",
      "SSE = 611.6984064944446\n",
      "MAPE = 0.07987063828779571\n",
      "support vector regression\n",
      "R2 = 0.7078947985688305\n",
      "SSE = 631.3382321497635\n",
      "MAPE = 0.07260462607196813\n",
      "polynomial regression\n",
      "R2 = 0.7054607112654743\n",
      "SSE = 666.0156044604062\n",
      "MAPE = 0.09068771529191445\n",
      "xgboost\n",
      "R2 = 0.7125838134350828\n",
      "SSE = 682.7622618082357\n",
      "MAPE = 0.09297101928037119\n",
      "lasso\n",
      "R2 = 0.71894829829049\n",
      "SSE = 616.2671302794026\n",
      "MAPE = 0.07729833074002816\n"
     ]
    },
    {
     "name": "stderr",
     "output_type": "stream",
     "text": [
      "C:\\Users\\emdua\\AppData\\Local\\Packages\\PythonSoftwareFoundation.Python.3.12_qbz5n2kfra8p0\\LocalCache\\local-packages\\Python312\\site-packages\\xgboost\\core.py:160: UserWarning: [10:25:07] WARNING: C:\\buildkite-agent\\builds\\buildkite-windows-cpu-autoscaling-group-i-0b3782d1791676daf-1\\xgboost\\xgboost-ci-windows\\src\\objective\\regression_obj.cu:209: reg:linear is now deprecated in favor of reg:squarederror.\n",
      "  warnings.warn(smsg, UserWarning)\n",
      "C:\\Users\\emdua\\AppData\\Local\\Packages\\PythonSoftwareFoundation.Python.3.12_qbz5n2kfra8p0\\LocalCache\\local-packages\\Python312\\site-packages\\xgboost\\core.py:160: UserWarning: [10:25:07] WARNING: C:\\buildkite-agent\\builds\\buildkite-windows-cpu-autoscaling-group-i-0b3782d1791676daf-1\\xgboost\\xgboost-ci-windows\\src\\objective\\regression_obj.cu:209: reg:linear is now deprecated in favor of reg:squarederror.\n",
      "  warnings.warn(smsg, UserWarning)\n",
      "C:\\Users\\emdua\\AppData\\Local\\Packages\\PythonSoftwareFoundation.Python.3.12_qbz5n2kfra8p0\\LocalCache\\local-packages\\Python312\\site-packages\\xgboost\\core.py:160: UserWarning: [10:25:08] WARNING: C:\\buildkite-agent\\builds\\buildkite-windows-cpu-autoscaling-group-i-0b3782d1791676daf-1\\xgboost\\xgboost-ci-windows\\src\\objective\\regression_obj.cu:209: reg:linear is now deprecated in favor of reg:squarederror.\n",
      "  warnings.warn(smsg, UserWarning)\n",
      "C:\\Users\\emdua\\AppData\\Local\\Packages\\PythonSoftwareFoundation.Python.3.12_qbz5n2kfra8p0\\LocalCache\\local-packages\\Python312\\site-packages\\xgboost\\core.py:160: UserWarning: [10:25:08] WARNING: C:\\buildkite-agent\\builds\\buildkite-windows-cpu-autoscaling-group-i-0b3782d1791676daf-1\\xgboost\\xgboost-ci-windows\\src\\objective\\regression_obj.cu:209: reg:linear is now deprecated in favor of reg:squarederror.\n",
      "  warnings.warn(smsg, UserWarning)\n",
      "C:\\Users\\emdua\\AppData\\Local\\Packages\\PythonSoftwareFoundation.Python.3.12_qbz5n2kfra8p0\\LocalCache\\local-packages\\Python312\\site-packages\\xgboost\\core.py:160: UserWarning: [10:25:08] WARNING: C:\\buildkite-agent\\builds\\buildkite-windows-cpu-autoscaling-group-i-0b3782d1791676daf-1\\xgboost\\xgboost-ci-windows\\src\\objective\\regression_obj.cu:209: reg:linear is now deprecated in favor of reg:squarederror.\n",
      "  warnings.warn(smsg, UserWarning)\n"
     ]
    }
   ],
   "source": [
    "for model in modelsList:\n",
    "    modelScore(multipleFeatures, emissions, model)"
   ]
  },
  {
   "cell_type": "code",
   "execution_count": 13,
   "id": "d6c396c0",
   "metadata": {},
   "outputs": [
    {
     "data": {
      "text/plain": [
       "'for x in featuresList:\\n    print(x)\\n    for model in modelsList:\\n        print(modelScore(df[x].to_numpy().reshape(-1, 1), emissions, model))\\n    print(\"\")  '"
      ]
     },
     "execution_count": 13,
     "metadata": {},
     "output_type": "execute_result"
    }
   ],
   "source": [
    "\"\"\"for x in featuresList:\n",
    "    print(x)\n",
    "    for model in modelsList:\n",
    "        print(modelScore(df[x].to_numpy().reshape(-1, 1), emissions, model))\n",
    "    print(\"\")  \"\"\""
   ]
  },
  {
   "cell_type": "code",
   "execution_count": null,
   "id": "4df9de87",
   "metadata": {},
   "outputs": [],
   "source": []
  }
 ],
 "metadata": {
  "kernelspec": {
   "display_name": "Python 3 (ipykernel)",
   "language": "python",
   "name": "python3"
  },
  "language_info": {
   "codemirror_mode": {
    "name": "ipython",
    "version": 3
   },
   "file_extension": ".py",
   "mimetype": "text/x-python",
   "name": "python",
   "nbconvert_exporter": "python",
   "pygments_lexer": "ipython3",
   "version": "3.12.1"
  }
 },
 "nbformat": 4,
 "nbformat_minor": 5
}
