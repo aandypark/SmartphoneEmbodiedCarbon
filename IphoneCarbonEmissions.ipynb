{
 "cells": [
  {
   "cell_type": "code",
   "execution_count": 3,
   "id": "5b37cbd0-44c4-44b0-83c6-30efab178887",
   "metadata": {
    "tags": []
   },
   "outputs": [],
   "source": [
    "import pandas as pd\n",
    "import numpy as np\n",
    "\n",
    "from sklearn.model_selection import cross_val_score, KFold, train_test_split\n",
    "from sklearn.model_selection import LeaveOneOut\n",
    "from sklearn.preprocessing import PolynomialFeatures\n",
    "\n",
    "from sklearn.ensemble import RandomForestRegressor\n",
    "from sklearn.linear_model import LinearRegression\n",
    "from sklearn import tree\n",
    "from sklearn.svm import SVR\n",
    "import xgboost as xgb\n",
    "from sklearn.linear_model import Lasso\n",
    "from sklearn.neural_network import MLPRegressor\n",
    "\n",
    "from sklearn.metrics import r2_score\n",
    "from sklearn.metrics import mean_absolute_percentage_error"
   ]
  },
  {
   "cell_type": "code",
   "execution_count": 4,
   "id": "5bfb479c-eaa6-4594-b2da-b7ab370688c5",
   "metadata": {
    "tags": []
   },
   "outputs": [],
   "source": [
    "df = pd.read_csv('IphoneData.csv')\n",
    "newdf = df.drop(columns=['NAME', 'CO2E'])\n",
    "features = newdf.to_numpy()\n",
    "emissions = df['CO2E'].to_numpy()"
   ]
  },
  {
   "cell_type": "code",
   "execution_count": 119,
   "id": "58c3538f-ce54-4aee-94f2-1662ee08c84d",
   "metadata": {
    "tags": []
   },
   "outputs": [],
   "source": [
    "def modelScore(X, y, model):\n",
    "    avgR2 = avgSSE = avgMAPE = 0\n",
    "    #cross validation using K folds\n",
    "    kFolds = 5\n",
    "    for i, (trainIndex, testIndex) in enumerate(KFold(n_splits=kFolds, shuffle=True, random_state=42).split(X)):\n",
    "        X_train = X[trainIndex]\n",
    "        X_test = X[testIndex]\n",
    "        y_train = y[trainIndex]\n",
    "        y_test = y[testIndex]\n",
    "    \n",
    "\n",
    "        if model == 'linear regression':\n",
    "            fittedModel = LinearRegression().fit(X_train, y_train)\n",
    "            \n",
    "        elif model == 'decision tree':\n",
    "            dtModel = tree.DecisionTreeRegressor()\n",
    "            fittedModel = dtModel.fit(X_train, y_train)\n",
    "                \n",
    "        elif model == 'random forest':\n",
    "            y_train = y_train.flatten()\n",
    "            RF = RandomForestRegressor(max_features='log2', n_estimators=200, max_depth=20)\n",
    "            fittedModel = RF.fit(X_train, y_train)\n",
    "            \n",
    "        elif model == 'support vector regression':\n",
    "            y_train = y_train.flatten()\n",
    "            fittedModel = SVR(kernel = 'linear', C=1).fit(X_train, y_train)\n",
    "    \n",
    "        elif model == 'polynomial regression':\n",
    "            polyFeatures = PolynomialFeatures(degree=3, interaction_only=True, include_bias=True, order='C')\n",
    "            polyX_train = polyFeatures.fit_transform(X_train)\n",
    "            polyX_test = polyFeatures.transform(X_test)\n",
    "            fittedModel = LinearRegression().fit(polyX_train, y_train)\n",
    "            X_test = polyX_test\n",
    "\n",
    "        elif model == 'xgboost':\n",
    "            xgbModel = xgb.XGBModel(learning_rate=0.225, n_estimators=225, booster='gblinear',\n",
    "                                        reg_alpha=0, reg_lambda=0, eval_metric='auc', \n",
    "                                        objective='reg:squaredlogerror', updater='coord_descent', \n",
    "                                        feature_selector='thrifty')\n",
    "            fittedModel = xgbModel.fit(X_train, y_train)\n",
    "        \n",
    "        elif model =='lasso':\n",
    "            lassoModel = Lasso(tol=.0001, max_iter=2000, selection='random', alpha=.15)\n",
    "\n",
    "            fittedModel = lassoModel.fit(X_train, y_train)\n",
    "        \n",
    "        elif model ==\"neural network\":\n",
    "            nn = MLPRegressor(alpha=0.001, batch_size=25, hidden_layer_sizes=(10, 10, 10, 10),\n",
    "             learning_rate_init=0.05, max_iter=5000, random_state=42, tol=1e-1, max_fun=25000,\n",
    "             solver='lbfgs', activation='identity')\n",
    "\n",
    "            fittedModel = nn.fit(X_train, y_train)\n",
    "\n",
    "        y_pred = fittedModel.predict(X_test)\n",
    "\n",
    "        #scores\n",
    "        avgR2 += r2_score(y_test, y_pred)    \n",
    "        avgSSE += np.sum((y_test - y_pred) ** 2)\n",
    "        avgMAPE += mean_absolute_percentage_error(y_test, y_pred)\n",
    "\n",
    "\n",
    "\n",
    "    avgR2, avgSSE, avgMAPE = avgR2 / kFolds, avgSSE / kFolds, avgMAPE / kFolds\n",
    "   #print results\n",
    "    print(model)\n",
    "    print(\"R2 = \" + str(avgR2))\n",
    "    print(\"SSE = \" + str(avgSSE))\n",
    "    print(\"MAPE = \" + str(avgMAPE))\n",
    "\n",
    "\n"
   ]
  },
  {
   "cell_type": "code",
   "execution_count": 120,
   "id": "24ac0edb",
   "metadata": {},
   "outputs": [
    {
     "name": "stdout",
     "output_type": "stream",
     "text": [
      "neural network\n",
      "R2 = 0.9158294656879136\n",
      "SSE = 166.71653292690127\n",
      "MAPE = 0.04583188851292793\n"
     ]
    }
   ],
   "source": [
    "modelScore(features, emissions, 'neural network')"
   ]
  },
  {
   "cell_type": "code",
   "execution_count": 10,
   "id": "9da4e3f3-4503-488d-ae18-ea6dd7ffa012",
   "metadata": {
    "tags": []
   },
   "outputs": [
    {
     "name": "stdout",
     "output_type": "stream",
     "text": [
      "linear regression\n",
      "R2 = 0.9132785915590607\n",
      "SSE = 172.6195696345183\n",
      "MAPE = 0.04614202622279183\n"
     ]
    }
   ],
   "source": [
    "modelScore(features, emissions, 'linear regression')"
   ]
  },
  {
   "cell_type": "code",
   "execution_count": 21,
   "id": "dea144cd-d89f-4a68-bb65-58903aabb0c3",
   "metadata": {
    "tags": []
   },
   "outputs": [
    {
     "name": "stdout",
     "output_type": "stream",
     "text": [
      "decision tree\n",
      "R2 = 0.6662928948462766\n",
      "SSE = 712.8\n",
      "MAPE = 0.08939441482941882\n"
     ]
    }
   ],
   "source": [
    "modelScore(features, emissions, 'decision tree')"
   ]
  },
  {
   "cell_type": "code",
   "execution_count": 8,
   "id": "e06cf85c-39d6-4ab8-8adb-41964e647dfa",
   "metadata": {
    "tags": []
   },
   "outputs": [
    {
     "name": "stdout",
     "output_type": "stream",
     "text": [
      "random forest\n",
      "R2 = 0.7271477493885369\n",
      "SSE = 642.307705\n",
      "MAPE = 0.08345888361923537\n"
     ]
    }
   ],
   "source": [
    "modelScore(features, emissions, 'random forest')"
   ]
  },
  {
   "cell_type": "code",
   "execution_count": 9,
   "id": "bfa89dc1-b49b-4a6b-aeae-2fb747ad2747",
   "metadata": {
    "tags": []
   },
   "outputs": [
    {
     "name": "stdout",
     "output_type": "stream",
     "text": [
      "support vector regression\n",
      "R2 = 0.8783182219644387\n",
      "SSE = 231.72982845335702\n",
      "MAPE = 0.0474385532925264\n"
     ]
    }
   ],
   "source": [
    "modelScore(features, emissions, 'support vector regression')"
   ]
  },
  {
   "cell_type": "code",
   "execution_count": 66,
   "id": "fdfdefef-95c2-438a-b1a0-8487f80f1ff6",
   "metadata": {},
   "outputs": [
    {
     "name": "stdout",
     "output_type": "stream",
     "text": [
      "polynomial regression\n",
      "R2 = 0.9176046244206117\n",
      "SSE = 213.04590046008312\n",
      "MAPE = 0.030430745629900446\n",
      "[-1.69194699e-17  3.62595378e-10  4.56798766e-08  1.97123915e-09\n",
      " -1.11341422e-17  1.13833632e-09  2.92835991e-09  2.02696360e-08\n",
      "  6.73336891e-10  6.17039547e-10  8.66452411e-10  1.16878054e-08\n",
      " -2.90296463e-07  2.94382497e-07  1.14371365e-08  2.17557169e-09\n",
      "  7.16152771e-09  1.72713180e-08  1.80761080e-07  4.82485226e-09\n",
      "  7.25122937e-09  5.18411764e-09  6.99343498e-08 -7.99327597e-07\n",
      " -6.02403273e-07  2.74079260e-07 -1.99525229e-07  8.66979788e-07\n",
      "  6.16049390e-06  2.78413082e-06  5.57426197e-07 -1.18977755e-07\n",
      "  1.36566543e-06 -1.22274176e-06  1.18274350e-08  1.33885959e-08\n",
      "  3.14010097e-08  3.68003228e-07  4.05805057e-08  2.25445801e-08\n",
      "  8.37582956e-09  1.39980170e-07  1.07391380e-06  6.83001822e-09\n",
      "  1.75701592e-08  1.21617816e-07  4.04002122e-09  3.70223741e-09\n",
      "  5.19871449e-09  7.01268325e-08 -1.74177878e-06  2.27789589e-08\n",
      "  2.47142970e-07  2.34695280e-08  1.35753867e-08  6.07353640e-09\n",
      "  9.62673150e-08  2.34461239e-07  6.79872864e-07  4.59137084e-08\n",
      "  2.14909817e-08  1.43723983e-08  2.04733151e-07 -1.56034541e-06\n",
      " -3.26801507e-07  3.36191890e-07  1.65087749e-07  1.74720774e-06\n",
      " -1.32368469e-05  1.54845173e-08 -3.86953194e-09  1.37030377e-09\n",
      " -2.93941085e-06  1.10144686e-08  1.51977417e-07 -2.44042283e-06\n",
      "  4.57728626e-08  3.65049639e-07  2.48431955e-06 -2.34266122e-06\n",
      "  1.76629498e-06 -5.34077343e-07  4.96545999e-06  4.47025584e-05\n",
      "  8.54753585e-06  3.57614804e-06 -2.72687423e-07  5.31884485e-06\n",
      "  2.55076959e-05  6.86228191e-08  7.18562109e-08  1.73167753e-07\n",
      "  2.07275675e-06  1.65996078e-07  1.32027275e-07  4.48911407e-08\n",
      "  6.99471403e-07  3.61755786e-06  4.29691662e-08  1.03627908e-07\n",
      "  1.08456648e-06  2.89491136e-08  4.35073762e-08  3.11047058e-08\n",
      "  4.19606099e-07 -4.79596558e-06  1.26868663e-07  1.50413033e-06\n",
      "  1.01260970e-07  8.55404786e-08  3.35315745e-08  5.03242010e-07\n",
      "  1.51718088e-06  4.12260942e-06  2.14835158e-07  1.43103934e-07\n",
      "  8.00444539e-08  1.11121672e-06 -5.38007053e-06 -5.70301476e-07\n",
      "  2.60602737e-06  9.53520890e-07  1.13088436e-05  6.58004122e-05\n",
      "  9.26992588e-08 -7.27707575e-09  2.81123751e-08 -2.67964125e-05\n",
      "  6.51094976e-08  8.94313832e-07 -4.68919794e-06  2.66642795e-07\n",
      "  9.58105609e-07 -1.03964119e-05 -3.61441964e-06 -5.75517362e-06\n",
      " -9.84390527e-06 -4.05633852e-05 -1.03979955e-05 -7.41536146e-06\n",
      " -2.83801370e-06 -4.46406821e-05 -3.59836435e-06 -1.19715138e-06\n",
      "  5.20187873e-06  3.69629634e-05  1.67047849e-05  3.34455718e-06\n",
      " -7.13866532e-07  8.19399259e-06 -7.33645057e-06 -3.10545983e-06\n",
      " -6.43384000e-06  4.93063713e-07 -2.52061176e-06 -1.64664571e-06\n",
      " -1.93929938e-05  1.45419611e-05  1.08210889e-04  4.61793142e-05\n",
      "  9.09005659e-06 -1.37208643e-06  2.84005762e-05 -8.49884344e-06\n",
      " -1.17473641e-06  7.55013249e-05 -4.42861280e-06 -5.27426918e-05\n",
      " -3.72690554e-07  3.35207819e-05 -8.07150806e-06  4.39893556e-05\n",
      " -1.78898167e-06 -1.41846539e-06  1.65640710e-05 -7.83272500e-06\n",
      " -1.85343417e-05 -1.70141558e-07  3.00949577e-06  8.03315756e-08\n",
      "  1.88406058e-07  2.20801937e-06  2.43483034e-07  1.35267480e-07\n",
      "  5.02549774e-08  8.39881023e-07  6.44348282e-06  1.99366542e-07\n",
      "  2.13412550e-06  2.96833787e-07  1.51116375e-07  4.92550346e-08\n",
      "  8.78347427e-07  5.60047102e-06  5.55615244e-06  6.47622288e-07\n",
      "  3.24220880e-07  1.24197655e-07  2.08540291e-06  7.93725379e-06\n",
      "  4.19428987e-07  4.25825343e-06  1.29395319e-06  1.57890820e-05\n",
      " -8.19018271e-06  4.73642589e-07  5.35650326e-08  1.92885349e-06\n",
      " -4.41506019e-05  9.93996648e-08  1.65866654e-06  1.05431503e-05\n",
      "  4.18404688e-07  3.93631925e-06  7.41413799e-07  1.36673753e-07\n",
      "  1.48285782e-06  1.40817168e-07  8.14523200e-08  3.64412184e-08\n",
      "  5.77603890e-07  1.40676743e-06  4.07923719e-06  2.75482250e-07\n",
      "  1.28945890e-07  8.62343897e-08  1.22839891e-06 -9.36207246e-06\n",
      " -1.96080904e-06  2.01715134e-06  9.90526496e-07  1.04832465e-05\n",
      " -7.94210816e-05  9.29071035e-08 -2.32171916e-08  8.22182263e-09\n",
      " -1.76364651e-05  6.60868113e-08  9.11864501e-07 -1.46425370e-05\n",
      "  2.74637176e-07  2.19029783e-06  1.49059173e-05  4.31863862e-06\n",
      "  4.30299372e-07  2.13644543e-07  9.20653584e-08  1.47538071e-06\n",
      "  3.07271418e-06 -1.72663513e-07  2.95972508e-06  9.99754180e-07\n",
      "  1.18183961e-05  1.05896098e-05  2.80618539e-07  2.08760538e-08\n",
      "  1.00198678e-06 -2.46169555e-05  7.27977870e-08  1.15359943e-06\n",
      "  2.33741034e-06  3.03649688e-07  2.97635617e-06  1.06231940e-05\n",
      " -9.62119853e-07  6.16452297e-06  2.53535583e-06  2.74681987e-05\n",
      "  4.26990009e-06  3.87172459e-07 -5.58025953e-08  2.34664032e-07\n",
      " -1.00177976e-05  1.58819443e-07  2.19746041e-06 -4.48674964e-05\n",
      "  6.47566871e-07  1.48380478e-06 -1.83554917e-05 -2.80614299e-06\n",
      " -1.09198494e-06 -4.32717449e-05  7.17525147e-07  2.07400925e-06\n",
      "  2.27326618e-05 -1.15999903e-06  7.00063245e-06 -1.32776629e-05\n",
      " -9.32265860e-07 -3.90299084e-08  1.57128667e-07 -2.27553134e-05\n",
      " -1.04003768e-06  4.84587179e-07  9.17877476e-06  5.60998103e-07\n",
      "  5.42373040e-06  4.96313944e-05  3.93249989e-05]\n"
     ]
    },
    {
     "ename": "",
     "evalue": "",
     "output_type": "error",
     "traceback": [
      "\u001b[1;31mThe Kernel crashed while executing code in the current cell or a previous cell. \n",
      "\u001b[1;31mPlease review the code in the cell(s) to identify a possible cause of the failure. \n",
      "\u001b[1;31mClick <a href='https://aka.ms/vscodeJupyterKernelCrash'>here</a> for more info. \n",
      "\u001b[1;31mView Jupyter <a href='command:jupyter.viewOutput'>log</a> for further details."
     ]
    }
   ],
   "source": [
    "modelScore(features, emissions, 'polynomial regression')"
   ]
  },
  {
   "cell_type": "code",
   "execution_count": 11,
   "id": "d55ba734",
   "metadata": {},
   "outputs": [
    {
     "name": "stdout",
     "output_type": "stream",
     "text": [
      "xgboost\n",
      "R2 = 0.9073441886813531\n",
      "SSE = 195.56138811718557\n",
      "MAPE = 0.04682619770749446\n"
     ]
    }
   ],
   "source": [
    "modelScore(features, emissions, 'xgboost')"
   ]
  },
  {
   "cell_type": "code",
   "execution_count": 12,
   "id": "9819df35",
   "metadata": {},
   "outputs": [
    {
     "name": "stdout",
     "output_type": "stream",
     "text": [
      "lasso\n",
      "R2 = 0.9012026099356827\n",
      "SSE = 199.96046739839318\n",
      "MAPE = 0.049636892695834094\n"
     ]
    }
   ],
   "source": [
    "modelScore(features, emissions, 'lasso')"
   ]
  },
  {
   "cell_type": "code",
   "execution_count": 13,
   "id": "0eff29e5",
   "metadata": {},
   "outputs": [],
   "source": [
    "modelsList = ['linear regression', 'decision tree', 'random forest', 'support vector regression', 'polynomial regression', 'xgboost', 'lasso']\n",
    "multipleFeatures = df[['DISPLAY (inch)', 'STORAGE (gb)', 'MEMORY (gb)', 'GPU (cores)', 'NEURAL ENGINE (cores)', 'WEIGHT (gm)', 'FRONT CAMERA (mp)', 'number of camera (back)', 'Sum of megapixels', 'MAIN CAMERA (mp)']].to_numpy()\n",
    "featuresList = ['DISPLAY (inch)', 'STORAGE (gb)', 'MEMORY (gb)', 'CPU (cores)', 'GPU (cores)', 'NEURAL ENGINE (cores)', 'WEIGHT (gm)', 'FRONT CAMERA (mp)', 'BATTERY (mAh)', 'number of camera (back)', 'Sum of megapixels', 'MAIN CAMERA (mp)']"
   ]
  },
  {
   "cell_type": "code",
   "execution_count": 14,
   "id": "0217b705",
   "metadata": {},
   "outputs": [
    {
     "name": "stdout",
     "output_type": "stream",
     "text": [
      "linear regression\n",
      "R2 = 0.9157485339743221\n",
      "SSE = 166.44599819781578\n",
      "MAPE = 0.045766455386079326\n",
      "decision tree\n",
      "R2 = 0.7772862077161674\n",
      "SSE = 465.4\n",
      "MAPE = 0.0735462453987529\n",
      "random forest\n",
      "R2 = 0.776251396462398\n",
      "SSE = 509.93691499999994\n",
      "MAPE = 0.07660573835582944\n"
     ]
    },
    {
     "ename": "KeyboardInterrupt",
     "evalue": "",
     "output_type": "error",
     "traceback": [
      "\u001b[1;31m---------------------------------------------------------------------------\u001b[0m",
      "\u001b[1;31mKeyboardInterrupt\u001b[0m                         Traceback (most recent call last)",
      "Cell \u001b[1;32mIn[14], line 2\u001b[0m\n\u001b[0;32m      1\u001b[0m \u001b[38;5;28;01mfor\u001b[39;00m model \u001b[38;5;129;01min\u001b[39;00m modelsList:\n\u001b[1;32m----> 2\u001b[0m     \u001b[43mmodelScore\u001b[49m\u001b[43m(\u001b[49m\u001b[43mmultipleFeatures\u001b[49m\u001b[43m,\u001b[49m\u001b[43m \u001b[49m\u001b[43memissions\u001b[49m\u001b[43m,\u001b[49m\u001b[43m \u001b[49m\u001b[43mmodel\u001b[49m\u001b[43m)\u001b[49m\n",
      "Cell \u001b[1;32mIn[4], line 26\u001b[0m, in \u001b[0;36mmodelScore\u001b[1;34m(X, y, model)\u001b[0m\n\u001b[0;32m     24\u001b[0m \u001b[38;5;28;01melif\u001b[39;00m model \u001b[38;5;241m==\u001b[39m \u001b[38;5;124m'\u001b[39m\u001b[38;5;124msupport vector regression\u001b[39m\u001b[38;5;124m'\u001b[39m:\n\u001b[0;32m     25\u001b[0m     y_train \u001b[38;5;241m=\u001b[39m y_train\u001b[38;5;241m.\u001b[39mflatten()\n\u001b[1;32m---> 26\u001b[0m     fittedModel \u001b[38;5;241m=\u001b[39m \u001b[43mSVR\u001b[49m\u001b[43m(\u001b[49m\u001b[43mkernel\u001b[49m\u001b[43m \u001b[49m\u001b[38;5;241;43m=\u001b[39;49m\u001b[43m \u001b[49m\u001b[38;5;124;43m'\u001b[39;49m\u001b[38;5;124;43mlinear\u001b[39;49m\u001b[38;5;124;43m'\u001b[39;49m\u001b[43m,\u001b[49m\u001b[43m \u001b[49m\u001b[43mC\u001b[49m\u001b[38;5;241;43m=\u001b[39;49m\u001b[38;5;241;43m1\u001b[39;49m\u001b[43m)\u001b[49m\u001b[38;5;241;43m.\u001b[39;49m\u001b[43mfit\u001b[49m\u001b[43m(\u001b[49m\u001b[43mX_train\u001b[49m\u001b[43m,\u001b[49m\u001b[43m \u001b[49m\u001b[43my_train\u001b[49m\u001b[43m)\u001b[49m\n\u001b[0;32m     28\u001b[0m \u001b[38;5;28;01melif\u001b[39;00m model \u001b[38;5;241m==\u001b[39m \u001b[38;5;124m'\u001b[39m\u001b[38;5;124mpolynomial regression\u001b[39m\u001b[38;5;124m'\u001b[39m:\n\u001b[0;32m     29\u001b[0m     polyFeatures \u001b[38;5;241m=\u001b[39m PolynomialFeatures(degree\u001b[38;5;241m=\u001b[39m\u001b[38;5;241m3\u001b[39m, interaction_only\u001b[38;5;241m=\u001b[39m\u001b[38;5;28;01mTrue\u001b[39;00m, include_bias\u001b[38;5;241m=\u001b[39m\u001b[38;5;28;01mTrue\u001b[39;00m, order\u001b[38;5;241m=\u001b[39m\u001b[38;5;124m'\u001b[39m\u001b[38;5;124mC\u001b[39m\u001b[38;5;124m'\u001b[39m)\n",
      "File \u001b[1;32m~\\AppData\\Local\\Packages\\PythonSoftwareFoundation.Python.3.12_qbz5n2kfra8p0\\LocalCache\\local-packages\\Python312\\site-packages\\sklearn\\base.py:1351\u001b[0m, in \u001b[0;36m_fit_context.<locals>.decorator.<locals>.wrapper\u001b[1;34m(estimator, *args, **kwargs)\u001b[0m\n\u001b[0;32m   1344\u001b[0m     estimator\u001b[38;5;241m.\u001b[39m_validate_params()\n\u001b[0;32m   1346\u001b[0m \u001b[38;5;28;01mwith\u001b[39;00m config_context(\n\u001b[0;32m   1347\u001b[0m     skip_parameter_validation\u001b[38;5;241m=\u001b[39m(\n\u001b[0;32m   1348\u001b[0m         prefer_skip_nested_validation \u001b[38;5;129;01mor\u001b[39;00m global_skip_validation\n\u001b[0;32m   1349\u001b[0m     )\n\u001b[0;32m   1350\u001b[0m ):\n\u001b[1;32m-> 1351\u001b[0m     \u001b[38;5;28;01mreturn\u001b[39;00m \u001b[43mfit_method\u001b[49m\u001b[43m(\u001b[49m\u001b[43mestimator\u001b[49m\u001b[43m,\u001b[49m\u001b[43m \u001b[49m\u001b[38;5;241;43m*\u001b[39;49m\u001b[43margs\u001b[49m\u001b[43m,\u001b[49m\u001b[43m \u001b[49m\u001b[38;5;241;43m*\u001b[39;49m\u001b[38;5;241;43m*\u001b[39;49m\u001b[43mkwargs\u001b[49m\u001b[43m)\u001b[49m\n",
      "File \u001b[1;32m~\\AppData\\Local\\Packages\\PythonSoftwareFoundation.Python.3.12_qbz5n2kfra8p0\\LocalCache\\local-packages\\Python312\\site-packages\\sklearn\\svm\\_base.py:250\u001b[0m, in \u001b[0;36mBaseLibSVM.fit\u001b[1;34m(self, X, y, sample_weight)\u001b[0m\n\u001b[0;32m    247\u001b[0m     \u001b[38;5;28mprint\u001b[39m(\u001b[38;5;124m\"\u001b[39m\u001b[38;5;124m[LibSVM]\u001b[39m\u001b[38;5;124m\"\u001b[39m, end\u001b[38;5;241m=\u001b[39m\u001b[38;5;124m\"\u001b[39m\u001b[38;5;124m\"\u001b[39m)\n\u001b[0;32m    249\u001b[0m seed \u001b[38;5;241m=\u001b[39m rnd\u001b[38;5;241m.\u001b[39mrandint(np\u001b[38;5;241m.\u001b[39miinfo(\u001b[38;5;124m\"\u001b[39m\u001b[38;5;124mi\u001b[39m\u001b[38;5;124m\"\u001b[39m)\u001b[38;5;241m.\u001b[39mmax)\n\u001b[1;32m--> 250\u001b[0m \u001b[43mfit\u001b[49m\u001b[43m(\u001b[49m\u001b[43mX\u001b[49m\u001b[43m,\u001b[49m\u001b[43m \u001b[49m\u001b[43my\u001b[49m\u001b[43m,\u001b[49m\u001b[43m \u001b[49m\u001b[43msample_weight\u001b[49m\u001b[43m,\u001b[49m\u001b[43m \u001b[49m\u001b[43msolver_type\u001b[49m\u001b[43m,\u001b[49m\u001b[43m \u001b[49m\u001b[43mkernel\u001b[49m\u001b[43m,\u001b[49m\u001b[43m \u001b[49m\u001b[43mrandom_seed\u001b[49m\u001b[38;5;241;43m=\u001b[39;49m\u001b[43mseed\u001b[49m\u001b[43m)\u001b[49m\n\u001b[0;32m    251\u001b[0m \u001b[38;5;66;03m# see comment on the other call to np.iinfo in this file\u001b[39;00m\n\u001b[0;32m    253\u001b[0m \u001b[38;5;28mself\u001b[39m\u001b[38;5;241m.\u001b[39mshape_fit_ \u001b[38;5;241m=\u001b[39m X\u001b[38;5;241m.\u001b[39mshape \u001b[38;5;28;01mif\u001b[39;00m \u001b[38;5;28mhasattr\u001b[39m(X, \u001b[38;5;124m\"\u001b[39m\u001b[38;5;124mshape\u001b[39m\u001b[38;5;124m\"\u001b[39m) \u001b[38;5;28;01melse\u001b[39;00m (n_samples,)\n",
      "File \u001b[1;32m~\\AppData\\Local\\Packages\\PythonSoftwareFoundation.Python.3.12_qbz5n2kfra8p0\\LocalCache\\local-packages\\Python312\\site-packages\\sklearn\\svm\\_base.py:329\u001b[0m, in \u001b[0;36mBaseLibSVM._dense_fit\u001b[1;34m(self, X, y, sample_weight, solver_type, kernel, random_seed)\u001b[0m\n\u001b[0;32m    315\u001b[0m libsvm\u001b[38;5;241m.\u001b[39mset_verbosity_wrap(\u001b[38;5;28mself\u001b[39m\u001b[38;5;241m.\u001b[39mverbose)\n\u001b[0;32m    317\u001b[0m \u001b[38;5;66;03m# we don't pass **self.get_params() to allow subclasses to\u001b[39;00m\n\u001b[0;32m    318\u001b[0m \u001b[38;5;66;03m# add other parameters to __init__\u001b[39;00m\n\u001b[0;32m    319\u001b[0m (\n\u001b[0;32m    320\u001b[0m     \u001b[38;5;28mself\u001b[39m\u001b[38;5;241m.\u001b[39msupport_,\n\u001b[0;32m    321\u001b[0m     \u001b[38;5;28mself\u001b[39m\u001b[38;5;241m.\u001b[39msupport_vectors_,\n\u001b[0;32m    322\u001b[0m     \u001b[38;5;28mself\u001b[39m\u001b[38;5;241m.\u001b[39m_n_support,\n\u001b[0;32m    323\u001b[0m     \u001b[38;5;28mself\u001b[39m\u001b[38;5;241m.\u001b[39mdual_coef_,\n\u001b[0;32m    324\u001b[0m     \u001b[38;5;28mself\u001b[39m\u001b[38;5;241m.\u001b[39mintercept_,\n\u001b[0;32m    325\u001b[0m     \u001b[38;5;28mself\u001b[39m\u001b[38;5;241m.\u001b[39m_probA,\n\u001b[0;32m    326\u001b[0m     \u001b[38;5;28mself\u001b[39m\u001b[38;5;241m.\u001b[39m_probB,\n\u001b[0;32m    327\u001b[0m     \u001b[38;5;28mself\u001b[39m\u001b[38;5;241m.\u001b[39mfit_status_,\n\u001b[0;32m    328\u001b[0m     \u001b[38;5;28mself\u001b[39m\u001b[38;5;241m.\u001b[39m_num_iter,\n\u001b[1;32m--> 329\u001b[0m ) \u001b[38;5;241m=\u001b[39m \u001b[43mlibsvm\u001b[49m\u001b[38;5;241;43m.\u001b[39;49m\u001b[43mfit\u001b[49m\u001b[43m(\u001b[49m\n\u001b[0;32m    330\u001b[0m \u001b[43m    \u001b[49m\u001b[43mX\u001b[49m\u001b[43m,\u001b[49m\n\u001b[0;32m    331\u001b[0m \u001b[43m    \u001b[49m\u001b[43my\u001b[49m\u001b[43m,\u001b[49m\n\u001b[0;32m    332\u001b[0m \u001b[43m    \u001b[49m\u001b[43msvm_type\u001b[49m\u001b[38;5;241;43m=\u001b[39;49m\u001b[43msolver_type\u001b[49m\u001b[43m,\u001b[49m\n\u001b[0;32m    333\u001b[0m \u001b[43m    \u001b[49m\u001b[43msample_weight\u001b[49m\u001b[38;5;241;43m=\u001b[39;49m\u001b[43msample_weight\u001b[49m\u001b[43m,\u001b[49m\n\u001b[0;32m    334\u001b[0m \u001b[43m    \u001b[49m\u001b[43mclass_weight\u001b[49m\u001b[38;5;241;43m=\u001b[39;49m\u001b[38;5;28;43mgetattr\u001b[39;49m\u001b[43m(\u001b[49m\u001b[38;5;28;43mself\u001b[39;49m\u001b[43m,\u001b[49m\u001b[43m \u001b[49m\u001b[38;5;124;43m\"\u001b[39;49m\u001b[38;5;124;43mclass_weight_\u001b[39;49m\u001b[38;5;124;43m\"\u001b[39;49m\u001b[43m,\u001b[49m\u001b[43m \u001b[49m\u001b[43mnp\u001b[49m\u001b[38;5;241;43m.\u001b[39;49m\u001b[43mempty\u001b[49m\u001b[43m(\u001b[49m\u001b[38;5;241;43m0\u001b[39;49m\u001b[43m)\u001b[49m\u001b[43m)\u001b[49m\u001b[43m,\u001b[49m\n\u001b[0;32m    335\u001b[0m \u001b[43m    \u001b[49m\u001b[43mkernel\u001b[49m\u001b[38;5;241;43m=\u001b[39;49m\u001b[43mkernel\u001b[49m\u001b[43m,\u001b[49m\n\u001b[0;32m    336\u001b[0m \u001b[43m    \u001b[49m\u001b[43mC\u001b[49m\u001b[38;5;241;43m=\u001b[39;49m\u001b[38;5;28;43mself\u001b[39;49m\u001b[38;5;241;43m.\u001b[39;49m\u001b[43mC\u001b[49m\u001b[43m,\u001b[49m\n\u001b[0;32m    337\u001b[0m \u001b[43m    \u001b[49m\u001b[43mnu\u001b[49m\u001b[38;5;241;43m=\u001b[39;49m\u001b[38;5;28;43mself\u001b[39;49m\u001b[38;5;241;43m.\u001b[39;49m\u001b[43mnu\u001b[49m\u001b[43m,\u001b[49m\n\u001b[0;32m    338\u001b[0m \u001b[43m    \u001b[49m\u001b[43mprobability\u001b[49m\u001b[38;5;241;43m=\u001b[39;49m\u001b[38;5;28;43mself\u001b[39;49m\u001b[38;5;241;43m.\u001b[39;49m\u001b[43mprobability\u001b[49m\u001b[43m,\u001b[49m\n\u001b[0;32m    339\u001b[0m \u001b[43m    \u001b[49m\u001b[43mdegree\u001b[49m\u001b[38;5;241;43m=\u001b[39;49m\u001b[38;5;28;43mself\u001b[39;49m\u001b[38;5;241;43m.\u001b[39;49m\u001b[43mdegree\u001b[49m\u001b[43m,\u001b[49m\n\u001b[0;32m    340\u001b[0m \u001b[43m    \u001b[49m\u001b[43mshrinking\u001b[49m\u001b[38;5;241;43m=\u001b[39;49m\u001b[38;5;28;43mself\u001b[39;49m\u001b[38;5;241;43m.\u001b[39;49m\u001b[43mshrinking\u001b[49m\u001b[43m,\u001b[49m\n\u001b[0;32m    341\u001b[0m \u001b[43m    \u001b[49m\u001b[43mtol\u001b[49m\u001b[38;5;241;43m=\u001b[39;49m\u001b[38;5;28;43mself\u001b[39;49m\u001b[38;5;241;43m.\u001b[39;49m\u001b[43mtol\u001b[49m\u001b[43m,\u001b[49m\n\u001b[0;32m    342\u001b[0m \u001b[43m    \u001b[49m\u001b[43mcache_size\u001b[49m\u001b[38;5;241;43m=\u001b[39;49m\u001b[38;5;28;43mself\u001b[39;49m\u001b[38;5;241;43m.\u001b[39;49m\u001b[43mcache_size\u001b[49m\u001b[43m,\u001b[49m\n\u001b[0;32m    343\u001b[0m \u001b[43m    \u001b[49m\u001b[43mcoef0\u001b[49m\u001b[38;5;241;43m=\u001b[39;49m\u001b[38;5;28;43mself\u001b[39;49m\u001b[38;5;241;43m.\u001b[39;49m\u001b[43mcoef0\u001b[49m\u001b[43m,\u001b[49m\n\u001b[0;32m    344\u001b[0m \u001b[43m    \u001b[49m\u001b[43mgamma\u001b[49m\u001b[38;5;241;43m=\u001b[39;49m\u001b[38;5;28;43mself\u001b[39;49m\u001b[38;5;241;43m.\u001b[39;49m\u001b[43m_gamma\u001b[49m\u001b[43m,\u001b[49m\n\u001b[0;32m    345\u001b[0m \u001b[43m    \u001b[49m\u001b[43mepsilon\u001b[49m\u001b[38;5;241;43m=\u001b[39;49m\u001b[38;5;28;43mself\u001b[39;49m\u001b[38;5;241;43m.\u001b[39;49m\u001b[43mepsilon\u001b[49m\u001b[43m,\u001b[49m\n\u001b[0;32m    346\u001b[0m \u001b[43m    \u001b[49m\u001b[43mmax_iter\u001b[49m\u001b[38;5;241;43m=\u001b[39;49m\u001b[38;5;28;43mself\u001b[39;49m\u001b[38;5;241;43m.\u001b[39;49m\u001b[43mmax_iter\u001b[49m\u001b[43m,\u001b[49m\n\u001b[0;32m    347\u001b[0m \u001b[43m    \u001b[49m\u001b[43mrandom_seed\u001b[49m\u001b[38;5;241;43m=\u001b[39;49m\u001b[43mrandom_seed\u001b[49m\u001b[43m,\u001b[49m\n\u001b[0;32m    348\u001b[0m \u001b[43m\u001b[49m\u001b[43m)\u001b[49m\n\u001b[0;32m    350\u001b[0m \u001b[38;5;28mself\u001b[39m\u001b[38;5;241m.\u001b[39m_warn_from_fit_status()\n",
      "File \u001b[1;32msklearn\\\\svm\\\\_libsvm.pyx:265\u001b[0m, in \u001b[0;36msklearn.svm._libsvm.fit\u001b[1;34m()\u001b[0m\n",
      "\u001b[1;31mKeyboardInterrupt\u001b[0m: "
     ]
    }
   ],
   "source": [
    "for model in modelsList:\n",
    "    modelScore(multipleFeatures, emissions, model)"
   ]
  },
  {
   "cell_type": "code",
   "execution_count": null,
   "id": "d6c396c0",
   "metadata": {},
   "outputs": [
    {
     "data": {
      "text/plain": [
       "'for x in featuresList:\\n    print(x)\\n    for model in modelsList:\\n        print(modelScore(df[x].to_numpy().reshape(-1, 1), emissions, model))\\n    print(\"\")  '"
      ]
     },
     "execution_count": 13,
     "metadata": {},
     "output_type": "execute_result"
    }
   ],
   "source": [
    "\"\"\"for x in featuresList:\n",
    "    print(x)\n",
    "    for model in modelsList:\n",
    "        print(modelScore(df[x].to_numpy().reshape(-1, 1), emissions, model))\n",
    "    print(\"\")  \"\"\""
   ]
  },
  {
   "cell_type": "code",
   "execution_count": null,
   "id": "4df9de87",
   "metadata": {},
   "outputs": [],
   "source": []
  }
 ],
 "metadata": {
  "kernelspec": {
   "display_name": "Python 3 (ipykernel)",
   "language": "python",
   "name": "python3"
  },
  "language_info": {
   "codemirror_mode": {
    "name": "ipython",
    "version": 3
   },
   "file_extension": ".py",
   "mimetype": "text/x-python",
   "name": "python",
   "nbconvert_exporter": "python",
   "pygments_lexer": "ipython3",
   "version": "3.12.2"
  }
 },
 "nbformat": 4,
 "nbformat_minor": 5
}
